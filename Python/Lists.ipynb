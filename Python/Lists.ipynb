{
 "cells": [
  {
   "cell_type": "markdown",
   "id": "d836d807",
   "metadata": {},
   "source": [
    "# Lists\n",
    "\n",
    "### Lists are basically a collection of element (Arrays). Indexing of the element starts from 0 to n-1 (n is the length of the list). We can access each element with their corresponding index\n",
    "\n",
    "### Lists are dynamic in size"
   ]
  },
  {
   "cell_type": "code",
   "execution_count": 2,
   "id": "494b6c8a",
   "metadata": {},
   "outputs": [
    {
     "data": {
      "text/plain": [
       "list"
      ]
     },
     "execution_count": 2,
     "metadata": {},
     "output_type": "execute_result"
    }
   ],
   "source": [
    "a = [1,2,3]\n",
    "type(a)"
   ]
  },
  {
   "cell_type": "code",
   "execution_count": 4,
   "id": "a2c00c60",
   "metadata": {},
   "outputs": [
    {
     "data": {
      "text/plain": [
       "3"
      ]
     },
     "execution_count": 4,
     "metadata": {},
     "output_type": "execute_result"
    }
   ],
   "source": [
    "a[2]"
   ]
  },
  {
   "cell_type": "markdown",
   "id": "1894b5de",
   "metadata": {},
   "source": [
    "### Lists are mutable unlike string, we can modify an element in a list"
   ]
  },
  {
   "cell_type": "code",
   "execution_count": 5,
   "id": "aebe9e1c",
   "metadata": {},
   "outputs": [
    {
     "data": {
      "text/plain": [
       "[1, 2, 100]"
      ]
     },
     "execution_count": 5,
     "metadata": {},
     "output_type": "execute_result"
    }
   ],
   "source": [
    "a[2]=100\n",
    "a"
   ]
  },
  {
   "cell_type": "markdown",
   "id": "dd7a669d",
   "metadata": {},
   "source": [
    "### Unlike C++ and Java we dont specify any type and size for a list.\n",
    "\n",
    "### We can store any type of data like string and int type of elements in a single list."
   ]
  },
  {
   "cell_type": "code",
   "execution_count": 8,
   "id": "1cf0f2d2",
   "metadata": {},
   "outputs": [
    {
     "data": {
      "text/plain": [
       "[1, 'abc', True]"
      ]
     },
     "execution_count": 8,
     "metadata": {},
     "output_type": "execute_result"
    }
   ],
   "source": [
    "a = [1,\"abc\",True]\n",
    "a"
   ]
  },
  {
   "cell_type": "code",
   "execution_count": 11,
   "id": "5d2f4d5b",
   "metadata": {},
   "outputs": [
    {
     "data": {
      "text/plain": [
       "['efg', 'abc', True]"
      ]
     },
     "execution_count": 11,
     "metadata": {},
     "output_type": "execute_result"
    }
   ],
   "source": [
    "a[0]=\"efg\"\n",
    "a"
   ]
  },
  {
   "cell_type": "code",
   "execution_count": 15,
   "id": "3abff1ea",
   "metadata": {},
   "outputs": [
    {
     "data": {
      "text/plain": [
       "[[1, 2, 3], 'abc', False]"
      ]
     },
     "execution_count": 15,
     "metadata": {},
     "output_type": "execute_result"
    }
   ],
   "source": [
    "a = [[1,2,3], \"abc\" , False]\n",
    "a"
   ]
  },
  {
   "cell_type": "code",
   "execution_count": 22,
   "id": "e624468b",
   "metadata": {},
   "outputs": [
    {
     "data": {
      "text/plain": [
       "['h', 'e', 'l', 'l', 'o']"
      ]
     },
     "execution_count": 22,
     "metadata": {},
     "output_type": "execute_result"
    }
   ],
   "source": [
    "a=list(\"hello\")\n",
    "a"
   ]
  },
  {
   "cell_type": "markdown",
   "id": "8ddcb944",
   "metadata": {},
   "source": [
    "### Another Syntax to create lists"
   ]
  },
  {
   "cell_type": "code",
   "execution_count": 20,
   "id": "08a3ef1e",
   "metadata": {},
   "outputs": [
    {
     "data": {
      "text/plain": [
       "[0, 1, 2, 3, 4, 5, 6, 7, 8, 9]"
      ]
     },
     "execution_count": 20,
     "metadata": {},
     "output_type": "execute_result"
    }
   ],
   "source": [
    "a = [i for i in range(10)]\n",
    "a"
   ]
  },
  {
   "cell_type": "code",
   "execution_count": 23,
   "id": "5c782811",
   "metadata": {},
   "outputs": [
    {
     "data": {
      "text/plain": [
       "[0, 1, 4, 9, 16, 25, 36, 49, 64, 81]"
      ]
     },
     "execution_count": 23,
     "metadata": {},
     "output_type": "execute_result"
    }
   ],
   "source": [
    "a = [i*i for i in range(10)]\n",
    "a"
   ]
  },
  {
   "cell_type": "markdown",
   "id": "61fc8806",
   "metadata": {},
   "source": [
    "## Lists Inbuilt Functions"
   ]
  },
  {
   "cell_type": "code",
   "execution_count": 24,
   "id": "df4f2f38",
   "metadata": {},
   "outputs": [
    {
     "data": {
      "text/plain": [
       "4"
      ]
     },
     "execution_count": 24,
     "metadata": {},
     "output_type": "execute_result"
    }
   ],
   "source": [
    "a = [1,2,3,4]\n",
    "len(a)"
   ]
  },
  {
   "cell_type": "code",
   "execution_count": 27,
   "id": "8e5e9a68",
   "metadata": {},
   "outputs": [],
   "source": [
    "b = [5,6,7,8]"
   ]
  },
  {
   "cell_type": "markdown",
   "id": "b99ced15",
   "metadata": {},
   "source": [
    "### Concatenation of two arrays"
   ]
  },
  {
   "cell_type": "code",
   "execution_count": 43,
   "id": "851ab7df",
   "metadata": {},
   "outputs": [
    {
     "data": {
      "text/plain": [
       "[1, 2, 3, 4, 5, 6, 7, 8]"
      ]
     },
     "execution_count": 43,
     "metadata": {},
     "output_type": "execute_result"
    }
   ],
   "source": [
    "# a new list is being created a and b are not modified\n",
    "a = [1,2,3,4]\n",
    "b = [5,6,7,8]\n",
    "c = a + b\n",
    "c"
   ]
  },
  {
   "cell_type": "code",
   "execution_count": 44,
   "id": "77fe4b1f",
   "metadata": {},
   "outputs": [
    {
     "data": {
      "text/plain": [
       "[1, 2, 3, 4, 1, 2, 3, 4, 1, 2, 3, 4]"
      ]
     },
     "execution_count": 44,
     "metadata": {},
     "output_type": "execute_result"
    }
   ],
   "source": [
    "# Here a is concatenated 3 times\n",
    "d = a * 3\n",
    "d"
   ]
  },
  {
   "cell_type": "markdown",
   "id": "74f7127e",
   "metadata": {},
   "source": [
    "### Add Data"
   ]
  },
  {
   "cell_type": "code",
   "execution_count": 45,
   "id": "5dbd907a",
   "metadata": {},
   "outputs": [
    {
     "name": "stdout",
     "output_type": "stream",
     "text": [
      "[1, 2, 3, 4]\n"
     ]
    },
    {
     "data": {
      "text/plain": [
       "[1, 2, 3, 4, 6]"
      ]
     },
     "execution_count": 45,
     "metadata": {},
     "output_type": "execute_result"
    }
   ],
   "source": [
    "print(a)\n",
    "# add data to the end of the list\n",
    "a.append(6)\n",
    "a"
   ]
  },
  {
   "cell_type": "code",
   "execution_count": 46,
   "id": "cd934962",
   "metadata": {},
   "outputs": [
    {
     "name": "stdout",
     "output_type": "stream",
     "text": [
      "[1, 2, 3, 4, 6]\n"
     ]
    },
    {
     "data": {
      "text/plain": [
       "[3, 1, 2, 3, 4, 6]"
      ]
     },
     "execution_count": 46,
     "metadata": {},
     "output_type": "execute_result"
    }
   ],
   "source": [
    "print(a)\n",
    "# add data to specific index\n",
    "a.insert(0,3)\n",
    "a"
   ]
  },
  {
   "cell_type": "code",
   "execution_count": 47,
   "id": "614a725f",
   "metadata": {},
   "outputs": [
    {
     "name": "stdout",
     "output_type": "stream",
     "text": [
      "[3, 1, 2, 3, 4, 6]\n"
     ]
    },
    {
     "data": {
      "text/plain": [
       "[3, 1, 2, 3, 4, 6, 5, 6, 7, 8]"
      ]
     },
     "execution_count": 47,
     "metadata": {},
     "output_type": "execute_result"
    }
   ],
   "source": [
    "print(a)\n",
    "# here b is concatenated to list a (no new list is being created)\n",
    "a.extend(b)\n",
    "a"
   ]
  },
  {
   "cell_type": "markdown",
   "id": "693c7950",
   "metadata": {},
   "source": [
    "### Delete Data"
   ]
  },
  {
   "cell_type": "code",
   "execution_count": 48,
   "id": "6a29c3ce",
   "metadata": {},
   "outputs": [
    {
     "name": "stdout",
     "output_type": "stream",
     "text": [
      "[3, 1, 2, 3, 4, 6, 5, 6, 7, 8]\n"
     ]
    },
    {
     "data": {
      "text/plain": [
       "[3, 1, 2, 3, 4, 6, 6, 7, 8]"
      ]
     },
     "execution_count": 48,
     "metadata": {},
     "output_type": "execute_result"
    }
   ],
   "source": [
    "print(a)\n",
    "# removes the first occurence of number 5 from the list a (not the number at index 5)\n",
    "a.remove(5)\n",
    "a"
   ]
  },
  {
   "cell_type": "code",
   "execution_count": 50,
   "id": "88979441",
   "metadata": {},
   "outputs": [
    {
     "name": "stdout",
     "output_type": "stream",
     "text": [
      "[1, 2, 3, 4, 6, 6, 7, 8]\n",
      "1\n"
     ]
    },
    {
     "data": {
      "text/plain": [
       "[2, 3, 4, 6, 6, 7, 8]"
      ]
     },
     "execution_count": 50,
     "metadata": {},
     "output_type": "execute_result"
    }
   ],
   "source": [
    "print(a)\n",
    "# removes element at particular index\n",
    "print(a.pop(0))\n",
    "a"
   ]
  },
  {
   "cell_type": "code",
   "execution_count": 73,
   "id": "c3ace75a",
   "metadata": {},
   "outputs": [
    {
     "name": "stdout",
     "output_type": "stream",
     "text": [
      "abc\n"
     ]
    }
   ],
   "source": [
    "aList = [123, 'xyz', 'zara', 'abc'];\n",
    "print(aList.pop())"
   ]
  },
  {
   "cell_type": "code",
   "execution_count": 55,
   "id": "5edb6c3a",
   "metadata": {},
   "outputs": [
    {
     "name": "stdout",
     "output_type": "stream",
     "text": [
      "[2, 3, 4, 6]\n"
     ]
    },
    {
     "data": {
      "text/plain": [
       "[2, 3, 6]"
      ]
     },
     "execution_count": 55,
     "metadata": {},
     "output_type": "execute_result"
    }
   ],
   "source": [
    "print(a)\n",
    "# doesnt not return the delete element as pop do return\n",
    "del a[2]\n",
    "a"
   ]
  },
  {
   "cell_type": "markdown",
   "id": "62faaf38",
   "metadata": {},
   "source": [
    "### Other Basic functions"
   ]
  },
  {
   "cell_type": "code",
   "execution_count": 64,
   "id": "ade7bac6",
   "metadata": {},
   "outputs": [
    {
     "data": {
      "text/plain": [
       "[1, 2, 3, 4, 5]"
      ]
     },
     "execution_count": 64,
     "metadata": {},
     "output_type": "execute_result"
    }
   ],
   "source": [
    "# inorder to sort a list all the elements in the list should be of same data type\n",
    "a = [5,4,3,2,1]\n",
    "a.sort()\n",
    "a"
   ]
  },
  {
   "cell_type": "code",
   "execution_count": 60,
   "id": "b2c86672",
   "metadata": {},
   "outputs": [
    {
     "data": {
      "text/plain": [
       "5"
      ]
     },
     "execution_count": 60,
     "metadata": {},
     "output_type": "execute_result"
    }
   ],
   "source": [
    "# inorder to find max of a list all the elements in the list should be of same data type\n",
    "max(a)"
   ]
  },
  {
   "cell_type": "code",
   "execution_count": 65,
   "id": "19d024bf",
   "metadata": {},
   "outputs": [
    {
     "ename": "TypeError",
     "evalue": "'>' not supported between instances of 'str' and 'int'",
     "output_type": "error",
     "traceback": [
      "\u001b[0;31m---------------------------------------------------------------------------\u001b[0m",
      "\u001b[0;31mTypeError\u001b[0m                                 Traceback (most recent call last)",
      "\u001b[0;32m/var/folders/h0/ssxp0pb56tzgv9f4khbw19t80000gn/T/ipykernel_23190/1977432429.py\u001b[0m in \u001b[0;36m<module>\u001b[0;34m\u001b[0m\n\u001b[1;32m      1\u001b[0m \u001b[0ma\u001b[0m \u001b[0;34m=\u001b[0m \u001b[0;34m[\u001b[0m\u001b[0;36m0\u001b[0m\u001b[0;34m,\u001b[0m\u001b[0;36m1\u001b[0m\u001b[0;34m,\u001b[0m\u001b[0;36m2\u001b[0m\u001b[0;34m,\u001b[0m\u001b[0;34m\"abc\"\u001b[0m\u001b[0;34m]\u001b[0m\u001b[0;34m\u001b[0m\u001b[0;34m\u001b[0m\u001b[0m\n\u001b[0;32m----> 2\u001b[0;31m \u001b[0mmax\u001b[0m\u001b[0;34m(\u001b[0m\u001b[0ma\u001b[0m\u001b[0;34m)\u001b[0m\u001b[0;34m\u001b[0m\u001b[0;34m\u001b[0m\u001b[0m\n\u001b[0m",
      "\u001b[0;31mTypeError\u001b[0m: '>' not supported between instances of 'str' and 'int'"
     ]
    }
   ],
   "source": [
    "a = [0,1,2,\"abc\"]\n",
    "max(a)"
   ]
  },
  {
   "cell_type": "code",
   "execution_count": 74,
   "id": "0cdca29b",
   "metadata": {},
   "outputs": [
    {
     "name": "stdout",
     "output_type": "stream",
     "text": [
      "3\n"
     ]
    }
   ],
   "source": [
    "a = [5,3,1,7,3]\n",
    "# gives the index of nuumber 7 in the list\n",
    "print(a.index(7))"
   ]
  },
  {
   "cell_type": "markdown",
   "id": "471d3fb1",
   "metadata": {},
   "source": [
    "## Output And Taking Input"
   ]
  },
  {
   "cell_type": "code",
   "execution_count": 75,
   "id": "15c8e4c1",
   "metadata": {},
   "outputs": [
    {
     "name": "stdout",
     "output_type": "stream",
     "text": [
      "1\n",
      "2\n",
      "3\n",
      "4\n",
      "5\n"
     ]
    }
   ],
   "source": [
    "a = [1,2,3,4,5]\n",
    "for i in range(len(a)):\n",
    "    print(a[i])"
   ]
  },
  {
   "cell_type": "code",
   "execution_count": 77,
   "id": "ccc3d659",
   "metadata": {},
   "outputs": [
    {
     "name": "stdout",
     "output_type": "stream",
     "text": [
      "5\n",
      "5\n",
      "4\n",
      "3\n",
      "2\n",
      "1\n"
     ]
    },
    {
     "data": {
      "text/plain": [
       "[5, 4, 3, 2, 1]"
      ]
     },
     "execution_count": 77,
     "metadata": {},
     "output_type": "execute_result"
    }
   ],
   "source": [
    "# input format\n",
    "# size\n",
    "# elements one after the other\n",
    "# Ex. 5(size)\n",
    "# 1\n",
    "# 2 \n",
    "# 3\n",
    "# 4\n",
    "# 5\n",
    "s=int(input())\n",
    "a=[]\n",
    "for i in range(s):\n",
    "    a.append(int(input()))\n",
    "a"
   ]
  },
  {
   "cell_type": "code",
   "execution_count": 83,
   "id": "f52e4093",
   "metadata": {},
   "outputs": [
    {
     "name": "stdout",
     "output_type": "stream",
     "text": [
      "1 2 3 4 5\n",
      "[1, 2, 3, 4, 5]\n"
     ]
    }
   ],
   "source": [
    "# here no size is taken from the user\n",
    "# input is in a single line like 1 2 3 4 5\n",
    "line = input()\n",
    "l=line.split()\n",
    "a=[]\n",
    "for ch in l:\n",
    "    a.append(int(ch))\n",
    "print(a)"
   ]
  },
  {
   "cell_type": "code",
   "execution_count": 85,
   "id": "fd8c6528",
   "metadata": {},
   "outputs": [
    {
     "name": "stdout",
     "output_type": "stream",
     "text": [
      "1 2 3 4 5\n",
      "[1, 2, 3, 4, 5]\n"
     ]
    }
   ],
   "source": [
    "# easy syntax for the above\n",
    "a=[int(s) for s in input().split()]\n",
    "print(a)"
   ]
  },
  {
   "cell_type": "markdown",
   "id": "23faa7bb",
   "metadata": {},
   "source": [
    "## List Slicing\n",
    "\n",
    "### Slicing does change the original string but return a new list"
   ]
  },
  {
   "cell_type": "code",
   "execution_count": 86,
   "id": "5cc435bc",
   "metadata": {},
   "outputs": [],
   "source": [
    "a=[1,2,3,4,5,6,\"abc\",\"def\"]"
   ]
  },
  {
   "cell_type": "code",
   "execution_count": 88,
   "id": "339da2e5",
   "metadata": {},
   "outputs": [
    {
     "data": {
      "text/plain": [
       "[1, 2, 3, 4]"
      ]
     },
     "execution_count": 88,
     "metadata": {},
     "output_type": "execute_result"
    }
   ],
   "source": [
    "# return elements ranging from 0 to 4-1 (3)\n",
    "a[0:4]"
   ]
  },
  {
   "cell_type": "code",
   "execution_count": 89,
   "id": "12883b5f",
   "metadata": {},
   "outputs": [
    {
     "data": {
      "text/plain": [
       "[4, 5, 6, 'abc', 'def']"
      ]
     },
     "execution_count": 89,
     "metadata": {},
     "output_type": "execute_result"
    }
   ],
   "source": [
    "a[3:]"
   ]
  },
  {
   "cell_type": "code",
   "execution_count": 91,
   "id": "6855d2f9",
   "metadata": {},
   "outputs": [
    {
     "data": {
      "text/plain": [
       "[1, 2, 3, 4, 5]"
      ]
     },
     "execution_count": 91,
     "metadata": {},
     "output_type": "execute_result"
    }
   ],
   "source": [
    "a[:5]"
   ]
  },
  {
   "cell_type": "code",
   "execution_count": 92,
   "id": "11eaa01e",
   "metadata": {},
   "outputs": [
    {
     "data": {
      "text/plain": [
       "['def', 'abc', 6, 5]"
      ]
     },
     "execution_count": 92,
     "metadata": {},
     "output_type": "execute_result"
    }
   ],
   "source": [
    "# here the default start value will be the ending index and goes back till index 3\n",
    "a[:3:-1]"
   ]
  },
  {
   "cell_type": "code",
   "execution_count": 96,
   "id": "4d8f23ea",
   "metadata": {},
   "outputs": [
    {
     "data": {
      "text/plain": [
       "['def', 'abc', 6, 5, 4, 3, 2, 1]"
      ]
     },
     "execution_count": 96,
     "metadata": {},
     "output_type": "execute_result"
    }
   ],
   "source": [
    "# return reverse of list\n",
    "a[::-1]"
   ]
  },
  {
   "cell_type": "markdown",
   "id": "9e34262f",
   "metadata": {},
   "source": [
    "### Reverse function reverses the original list itself doesn't return a new list"
   ]
  },
  {
   "cell_type": "code",
   "execution_count": 99,
   "id": "2f8894da",
   "metadata": {},
   "outputs": [
    {
     "name": "stdout",
     "output_type": "stream",
     "text": [
      "['def', 'abc', 6, 5, 4, 3, 2, 1]\n"
     ]
    }
   ],
   "source": [
    "a.reverse()\n",
    "print(a)"
   ]
  },
  {
   "cell_type": "markdown",
   "id": "473c4f31",
   "metadata": {},
   "source": [
    "# Multidimensional Lists"
   ]
  },
  {
   "cell_type": "code",
   "execution_count": 100,
   "id": "a76a87e8",
   "metadata": {},
   "outputs": [],
   "source": [
    "a=[[1,2,3],[4,5,6]]"
   ]
  },
  {
   "cell_type": "code",
   "execution_count": 103,
   "id": "c4c3df4a",
   "metadata": {},
   "outputs": [
    {
     "data": {
      "text/plain": [
       "[[1, 2, 3], [4, 5, 6]]"
      ]
     },
     "execution_count": 103,
     "metadata": {},
     "output_type": "execute_result"
    }
   ],
   "source": [
    "a"
   ]
  },
  {
   "cell_type": "code",
   "execution_count": 104,
   "id": "d3d86526",
   "metadata": {},
   "outputs": [
    {
     "data": {
      "text/plain": [
       "[1, 2, 3]"
      ]
     },
     "execution_count": 104,
     "metadata": {},
     "output_type": "execute_result"
    }
   ],
   "source": [
    "a[0]"
   ]
  },
  {
   "cell_type": "code",
   "execution_count": 105,
   "id": "84192af0",
   "metadata": {},
   "outputs": [
    {
     "data": {
      "text/plain": [
       "2"
      ]
     },
     "execution_count": 105,
     "metadata": {},
     "output_type": "execute_result"
    }
   ],
   "source": [
    "a[0][1]"
   ]
  },
  {
   "cell_type": "code",
   "execution_count": 106,
   "id": "3ca69b6e",
   "metadata": {},
   "outputs": [
    {
     "data": {
      "text/plain": [
       "2"
      ]
     },
     "execution_count": 106,
     "metadata": {},
     "output_type": "execute_result"
    }
   ],
   "source": [
    "len(a)"
   ]
  },
  {
   "cell_type": "code",
   "execution_count": 107,
   "id": "389aad56",
   "metadata": {},
   "outputs": [
    {
     "data": {
      "text/plain": [
       "3"
      ]
     },
     "execution_count": 107,
     "metadata": {},
     "output_type": "execute_result"
    }
   ],
   "source": [
    "len(a[0])"
   ]
  },
  {
   "cell_type": "markdown",
   "id": "1fa72380",
   "metadata": {},
   "source": [
    "## Input"
   ]
  },
  {
   "cell_type": "code",
   "execution_count": 109,
   "id": "d20a0ffb",
   "metadata": {},
   "outputs": [
    {
     "name": "stdout",
     "output_type": "stream",
     "text": [
      "3 3\n",
      "1 2 3\n",
      "4 5 6\n",
      "7 8 9\n",
      "[[1, 2, 3], [4, 5, 6], [7, 8, 9]]\n"
     ]
    }
   ],
   "source": [
    "sizes=input().split()\n",
    "m=int(sizes[0])\n",
    "n=int(sizes[1])\n",
    "l=[]\n",
    "for i in range(m):\n",
    "    next_row=[int(i) for i in input().split()]\n",
    "    l.append(next_row)\n",
    "    \n",
    "print(l)"
   ]
  },
  {
   "cell_type": "code",
   "execution_count": 110,
   "id": "2e577c12",
   "metadata": {},
   "outputs": [
    {
     "name": "stdout",
     "output_type": "stream",
     "text": [
      "3 4\n",
      "1\n",
      "2\n",
      "3\n",
      "4\n",
      "5\n",
      "6\n",
      "7\n",
      "8\n",
      "9\n",
      "10\n",
      "11\n",
      "12\n",
      "[[1, 2, 3, 4], [5, 6, 7, 8], [9, 10, 11, 12]]\n"
     ]
    }
   ],
   "source": [
    "sizes=input().split()\n",
    "m=int(sizes[0])\n",
    "n=int(sizes[1])\n",
    "l=[]\n",
    "for i in range(m):\n",
    "    next_row=[]\n",
    "    for j in range(n):\n",
    "        next_row.append(int(input()))\n",
    "    l.append(next_row)\n",
    "print(l)"
   ]
  },
  {
   "cell_type": "code",
   "execution_count": 112,
   "id": "1084e316",
   "metadata": {},
   "outputs": [
    {
     "name": "stdout",
     "output_type": "stream",
     "text": [
      "3 4\n",
      "1 2 3 4 5 6 7 8 9 10 11 12\n",
      "[[1, 2, 3, 4], [5, 6, 7, 8], [9, 10, 11, 12]]\n"
     ]
    }
   ],
   "source": [
    "sizes=input().split()\n",
    "m=int(sizes[0])\n",
    "n=int(sizes[1])\n",
    "l_1D=[int(i) for i in input().split()]\n",
    "l=[]\n",
    "for i in range(m):\n",
    "    start_index=n*i\n",
    "    end_index=n*(i+1)\n",
    "    next_row=l_1D[start_index:end_index]\n",
    "    l.append(next_row)\n",
    "print(l)"
   ]
  },
  {
   "cell_type": "code",
   "execution_count": 115,
   "id": "2c528441",
   "metadata": {},
   "outputs": [
    {
     "data": {
      "text/plain": [
       "[[0, 1, 2, 3, 4],\n",
       " [0, 1, 2, 3, 4],\n",
       " [0, 1, 2, 3, 4],\n",
       " [0, 1, 2, 3, 4],\n",
       " [0, 1, 2, 3, 4]]"
      ]
     },
     "execution_count": 115,
     "metadata": {},
     "output_type": "execute_result"
    }
   ],
   "source": [
    "a=[[j for j in range(5)] for i in range(5)]\n",
    "a"
   ]
  },
  {
   "cell_type": "markdown",
   "id": "4e3d6fc1",
   "metadata": {},
   "source": [
    "### 2D Lists Slicing"
   ]
  },
  {
   "cell_type": "code",
   "execution_count": 119,
   "id": "f1be1d70",
   "metadata": {},
   "outputs": [
    {
     "name": "stdout",
     "output_type": "stream",
     "text": [
      "[[1, 2, 3, 4], [5, 6, 7, 8], [9, 10, 11, 12], [13, 14, 15, 16]]\n"
     ]
    }
   ],
   "source": [
    "a=[[1,2,3,4],[5,6,7,8],[9,10,11,12],[13,14,15,16]]\n",
    "print(a)"
   ]
  },
  {
   "cell_type": "code",
   "execution_count": 120,
   "id": "06c1c4c2",
   "metadata": {},
   "outputs": [
    {
     "data": {
      "text/plain": [
       "[[5, 6, 7, 8], [9, 10, 11, 12]]"
      ]
     },
     "execution_count": 120,
     "metadata": {},
     "output_type": "execute_result"
    }
   ],
   "source": [
    "a[1:3]"
   ]
  },
  {
   "cell_type": "code",
   "execution_count": 125,
   "id": "89f0ab75",
   "metadata": {},
   "outputs": [
    {
     "data": {
      "text/plain": [
       "[1, 2, 3, 4]"
      ]
     },
     "execution_count": 125,
     "metadata": {},
     "output_type": "execute_result"
    }
   ],
   "source": [
    "a[0:2][0]"
   ]
  },
  {
   "cell_type": "code",
   "execution_count": 127,
   "id": "706147c2",
   "metadata": {},
   "outputs": [
    {
     "name": "stdout",
     "output_type": "stream",
     "text": [
      "[10, 23, 56, [95]]\n"
     ]
    }
   ],
   "source": [
    "# They only create a copy on the 0th level. That's called shallow copy. The elements of a nested element are copied by reference.\n",
    "a = [10,23,56,[78]]\n",
    "b = list(a)\n",
    "a[3][0] = 95\n",
    "a[1] = 34\n",
    "print(b)"
   ]
  }
 ],
 "metadata": {
  "kernelspec": {
   "display_name": "Python 3 (ipykernel)",
   "language": "python",
   "name": "python3"
  },
  "language_info": {
   "codemirror_mode": {
    "name": "ipython",
    "version": 3
   },
   "file_extension": ".py",
   "mimetype": "text/x-python",
   "name": "python",
   "nbconvert_exporter": "python",
   "pygments_lexer": "ipython3",
   "version": "3.9.12"
  }
 },
 "nbformat": 4,
 "nbformat_minor": 5
}
