{
 "cells": [
  {
   "cell_type": "markdown",
   "id": "f120b778",
   "metadata": {},
   "source": [
    "# Conditions And Loops"
   ]
  },
  {
   "cell_type": "markdown",
   "id": "531ba21d",
   "metadata": {},
   "source": [
    "## Relational Operators"
   ]
  },
  {
   "cell_type": "code",
   "execution_count": 7,
   "id": "ca23d964",
   "metadata": {},
   "outputs": [
    {
     "name": "stdout",
     "output_type": "stream",
     "text": [
      "True\n",
      "False\n",
      "True\n",
      "False\n",
      "False\n",
      "True\n"
     ]
    }
   ],
   "source": [
    "a = 10\n",
    "b = 15\n",
    "\n",
    "print(a<b)\n",
    "print(a>b)\n",
    "print(a<=b)\n",
    "print(a>=b)\n",
    "print(a==b)\n",
    "print(a!=b)"
   ]
  },
  {
   "cell_type": "markdown",
   "id": "3c551ce0",
   "metadata": {},
   "source": [
    "## Logical Operators"
   ]
  },
  {
   "cell_type": "code",
   "execution_count": 10,
   "id": "beea293d",
   "metadata": {},
   "outputs": [
    {
     "name": "stdout",
     "output_type": "stream",
     "text": [
      "False\n",
      "True\n",
      "False\n",
      "True\n",
      "True\n"
     ]
    }
   ],
   "source": [
    "c1 = a < 10\n",
    "c2 = b >= 15\n",
    "print(c1)\n",
    "print(c2)\n",
    "\n",
    "r1 = c1 and c2\n",
    "r2 = c1 or c2\n",
    "r3 = not(c1)\n",
    "\n",
    "print(r1)\n",
    "print(r2)\n",
    "print(r3)"
   ]
  },
  {
   "cell_type": "markdown",
   "id": "3cc974fa",
   "metadata": {},
   "source": [
    "## IF  Else\n",
    "\n",
    "In if else conditions indentation is very important unlike c++ and java ( where it has brackets )\n",
    "\n",
    "Instead of brackets we put colon and then write the code with indentation for that particular if block"
   ]
  },
  {
   "cell_type": "code",
   "execution_count": 14,
   "id": "12433404",
   "metadata": {},
   "outputs": [
    {
     "name": "stdout",
     "output_type": "stream",
     "text": [
      "Iam inside else\n"
     ]
    }
   ],
   "source": [
    "a = False\n",
    "\n",
    "if a:\n",
    "    print(\"Iam inside if\")\n",
    "else:\n",
    "    print(\"Iam inside else\")"
   ]
  },
  {
   "cell_type": "markdown",
   "id": "afe3b736",
   "metadata": {},
   "source": [
    "Program to check where input is even or odd"
   ]
  },
  {
   "cell_type": "code",
   "execution_count": 1,
   "id": "67248ea6",
   "metadata": {},
   "outputs": [
    {
     "name": "stdout",
     "output_type": "stream",
     "text": [
      "3\n",
      "Number is Odd\n"
     ]
    }
   ],
   "source": [
    "n = int(input())\n",
    "\n",
    "if (n % 2 == 0):\n",
    "    print(\"Number is Even\")\n",
    "else :\n",
    "    print(\"Number is Odd\")"
   ]
  },
  {
   "cell_type": "markdown",
   "id": "162d3d60",
   "metadata": {},
   "source": [
    "### And operator"
   ]
  },
  {
   "cell_type": "code",
   "execution_count": 3,
   "id": "a6d0f3af",
   "metadata": {},
   "outputs": [
    {
     "name": "stdout",
     "output_type": "stream",
     "text": [
      "12\n",
      "16\n",
      "Both are > 10\n"
     ]
    }
   ],
   "source": [
    "a = int(input())\n",
    "b = int(input())\n",
    "\n",
    "if (a > 10) and (b > 10):\n",
    "    print(\"Both are > 10\")\n",
    "else:\n",
    "    print(\"No Both are not\")"
   ]
  },
  {
   "cell_type": "markdown",
   "id": "1404c6ec",
   "metadata": {},
   "source": [
    "### Or Operator"
   ]
  },
  {
   "cell_type": "code",
   "execution_count": 6,
   "id": "2634ae68",
   "metadata": {},
   "outputs": [
    {
     "name": "stdout",
     "output_type": "stream",
     "text": [
      "5\n",
      "55\n",
      "One number is > 10\n"
     ]
    }
   ],
   "source": [
    "a = int(input())\n",
    "b = int(input())\n",
    "\n",
    "if (a > 10) or (b > 10):\n",
    "    print(\"One number is > 10\")\n",
    "else:\n",
    "    print(\"No Both are not > 10\")"
   ]
  },
  {
   "cell_type": "markdown",
   "id": "2395dc6f",
   "metadata": {},
   "source": [
    "### Equals Operator"
   ]
  },
  {
   "cell_type": "code",
   "execution_count": 9,
   "id": "2ef3dae1",
   "metadata": {},
   "outputs": [
    {
     "name": "stdout",
     "output_type": "stream",
     "text": [
      "7\n",
      "Number is equals to 7\n"
     ]
    }
   ],
   "source": [
    "a = int(input())\n",
    "\n",
    "if (a == 7):\n",
    "    print(\"Number is equals to 7\")\n",
    "else: \n",
    "    print(\"Number is not equals to 7\")"
   ]
  },
  {
   "cell_type": "markdown",
   "id": "1fb6215f",
   "metadata": {},
   "source": [
    "### Not Equals Operator"
   ]
  },
  {
   "cell_type": "code",
   "execution_count": 11,
   "id": "331c289d",
   "metadata": {},
   "outputs": [
    {
     "name": "stdout",
     "output_type": "stream",
     "text": [
      "5\n",
      "Number is not equals to 7\n"
     ]
    }
   ],
   "source": [
    "a = int(input())\n",
    "\n",
    "if (a != 7):\n",
    "    print(\"Number is not equals to 7\")\n",
    "else:\n",
    "    print(\"Number is equals to 7\")"
   ]
  },
  {
   "cell_type": "markdown",
   "id": "3933d99b",
   "metadata": {},
   "source": [
    "### Else IF"
   ]
  },
  {
   "cell_type": "code",
   "execution_count": 14,
   "id": "58d1b5fa",
   "metadata": {},
   "outputs": [
    {
     "name": "stdout",
     "output_type": "stream",
     "text": [
      "5\n",
      "-4\n",
      "50\n",
      "50\n"
     ]
    }
   ],
   "source": [
    "a = int(input())\n",
    "b = int(input())\n",
    "c = int(input())\n",
    "if a >= b and a >= c:\n",
    "    print(a)\n",
    "elif b >= a and b >= c:\n",
    "    print(b)\n",
    "else:\n",
    "    print(c)"
   ]
  },
  {
   "cell_type": "markdown",
   "id": "eda18457",
   "metadata": {},
   "source": [
    "## Loops\n",
    "\n",
    "### While Loop"
   ]
  },
  {
   "cell_type": "code",
   "execution_count": 29,
   "id": "935ad75a",
   "metadata": {},
   "outputs": [
    {
     "name": "stdout",
     "output_type": "stream",
     "text": [
      "5\n",
      "1\n",
      "2\n",
      "3\n",
      "4\n",
      "5\n"
     ]
    }
   ],
   "source": [
    "n = int(input())\n",
    "\n",
    "count = 1;\n",
    "while (count <= n):\n",
    "    print(count)\n",
    "    count+=1"
   ]
  },
  {
   "cell_type": "markdown",
   "id": "36fe2d81",
   "metadata": {},
   "source": [
    "### For Loop\n",
    "\n",
    "For loops is different in python unlike in c++ and java.It can iterate only for a sequence like a string,array,maps, etc."
   ]
  },
  {
   "cell_type": "code",
   "execution_count": 31,
   "id": "6e962a92",
   "metadata": {},
   "outputs": [
    {
     "name": "stdout",
     "output_type": "stream",
     "text": [
      "M\n",
      "a\n",
      "n\n",
      "i\n",
      "s\n",
      "h\n"
     ]
    }
   ],
   "source": [
    "s = \"Manish\"\n",
    "for c in s:\n",
    "    print(c)"
   ]
  },
  {
   "cell_type": "markdown",
   "id": "93150040",
   "metadata": {},
   "source": [
    "So to iterate over a number we use range(start,end,step).The iteration stops at end-1,so if we want to include end we should use end+1"
   ]
  },
  {
   "cell_type": "code",
   "execution_count": 35,
   "id": "e0c64997",
   "metadata": {},
   "outputs": [
    {
     "name": "stdout",
     "output_type": "stream",
     "text": [
      "5\n",
      "1\n",
      "2\n",
      "3\n",
      "4\n",
      "5\n"
     ]
    }
   ],
   "source": [
    "n=int(input())\n",
    "\n",
    "for i in range(1,n+1,1):\n",
    "    print(i)"
   ]
  },
  {
   "cell_type": "markdown",
   "id": "86551cfc",
   "metadata": {},
   "source": [
    "By default the start is 0 and step is 1 in range() method"
   ]
  },
  {
   "cell_type": "code",
   "execution_count": 37,
   "id": "f8cd1f40",
   "metadata": {},
   "outputs": [
    {
     "name": "stdout",
     "output_type": "stream",
     "text": [
      "5\n",
      "0\n",
      "1\n",
      "2\n",
      "3\n",
      "4\n",
      "5\n"
     ]
    }
   ],
   "source": [
    "n=int(input())\n",
    "for i in range(n+1):\n",
    "    print(i)"
   ]
  },
  {
   "cell_type": "code",
   "execution_count": 45,
   "id": "d5569218",
   "metadata": {},
   "outputs": [
    {
     "name": "stdout",
     "output_type": "stream",
     "text": [
      "5\n",
      "    1\n",
      "   232\n",
      "  34543\n",
      " 4567654\n",
      "567898765\n"
     ]
    }
   ],
   "source": [
    "n=int(input())\n",
    "for i in range(1,n+1):\n",
    "    for spaces in range(1,n-i+1):\n",
    "        print(\" \",end=\"\")\n",
    "    for j in range(i,2*i):\n",
    "        print(j,end=\"\")\n",
    "    for j in range(2*i-2,i-1,-1):\n",
    "        print(j,end=\"\")\n",
    "    print()"
   ]
  },
  {
   "cell_type": "markdown",
   "id": "584a7b96",
   "metadata": {},
   "source": [
    "## Break Keyword\n",
    "\n",
    "It is used to break the loop completely"
   ]
  },
  {
   "cell_type": "code",
   "execution_count": 48,
   "id": "c355deed",
   "metadata": {},
   "outputs": [
    {
     "name": "stdout",
     "output_type": "stream",
     "text": [
      "10\n",
      "0\n",
      "1\n",
      "2\n",
      "3\n",
      "4\n"
     ]
    }
   ],
   "source": [
    "n=int(input())\n",
    "for i in range(n+1):\n",
    "    if(i==5):\n",
    "        break\n",
    "    print(i)"
   ]
  },
  {
   "cell_type": "markdown",
   "id": "1867eacf",
   "metadata": {},
   "source": [
    "## Continue Keyword\n",
    "\n",
    "Usually it is used to skip an iteration."
   ]
  },
  {
   "cell_type": "code",
   "execution_count": 54,
   "id": "097e70ca",
   "metadata": {},
   "outputs": [
    {
     "name": "stdout",
     "output_type": "stream",
     "text": [
      "10\n",
      "2\n",
      "4\n",
      "6\n",
      "8\n",
      "10\n"
     ]
    }
   ],
   "source": [
    "n=int(input())\n",
    "for i in range(1,n+1):\n",
    "    if(i%2!=0):\n",
    "        continue\n",
    "    print(i)"
   ]
  },
  {
   "cell_type": "markdown",
   "id": "3a776e4f",
   "metadata": {},
   "source": [
    "## Pass Keyword\n",
    "\n",
    "It is used when we dont want to wrtie anything inside if or for or while, if we dont use pass keyword it will show an error so if we want a empty code inside if/for/while then we should compulsorily use pass keyword"
   ]
  },
  {
   "cell_type": "code",
   "execution_count": 58,
   "id": "f40e835f",
   "metadata": {},
   "outputs": [
    {
     "name": "stdout",
     "output_type": "stream",
     "text": [
      "end\n"
     ]
    }
   ],
   "source": [
    "i=2\n",
    "\n",
    "if(i<7):\n",
    "    pass\n",
    "\n",
    "for i in range(5):\n",
    "    pass\n",
    "while(i<10):\n",
    "    pass\n",
    "    i+=1\n",
    "print(\"end\")"
   ]
  },
  {
   "cell_type": "markdown",
   "id": "ea26db49",
   "metadata": {},
   "source": [
    "### Nested Loops\n",
    "\n",
    "Printing all prime numbers from 2 to n"
   ]
  },
  {
   "cell_type": "code",
   "execution_count": 41,
   "id": "ebcdc38d",
   "metadata": {},
   "outputs": [
    {
     "name": "stdout",
     "output_type": "stream",
     "text": [
      "10\n",
      "2\n",
      "3\n",
      "5\n",
      "7\n"
     ]
    }
   ],
   "source": [
    "n=int(input())\n",
    "\n",
    "k=2\n",
    "while(k<=n):\n",
    "    flag=False\n",
    "    d=2\n",
    "    while(d<k):\n",
    "        if(k%d==0):\n",
    "            flag=True\n",
    "        d+=1\n",
    "    if not(flag):\n",
    "        print(k)\n",
    "    k+=1"
   ]
  },
  {
   "cell_type": "markdown",
   "id": "1470f043",
   "metadata": {},
   "source": [
    "### Else keyword in Loops\n",
    "\n",
    "#### Code inside else will not be executed if while or for loop is finished because of break statement"
   ]
  },
  {
   "cell_type": "code",
   "execution_count": 43,
   "id": "1fa29e15",
   "metadata": {},
   "outputs": [
    {
     "name": "stdout",
     "output_type": "stream",
     "text": [
      "0\n",
      "1\n",
      "2\n",
      "3\n",
      "4\n",
      "5\n",
      "6\n",
      "7\n",
      "8\n",
      "9\n",
      "This will be executed once after the for loop ends\n"
     ]
    }
   ],
   "source": [
    "for i in range(10):\n",
    "    print(i)\n",
    "else:\n",
    "    print(\"This will be executed once after the for loop ends\")"
   ]
  },
  {
   "cell_type": "code",
   "execution_count": 44,
   "id": "dd0e9d2a",
   "metadata": {},
   "outputs": [
    {
     "name": "stdout",
     "output_type": "stream",
     "text": [
      "0\n",
      "1\n",
      "2\n",
      "3\n",
      "4\n"
     ]
    }
   ],
   "source": [
    "for i in range(10):\n",
    "    if(i==5):\n",
    "        break\n",
    "    print(i)\n",
    "else:\n",
    "    print(\"This will be executed once after the for loop ends\")"
   ]
  },
  {
   "cell_type": "markdown",
   "id": "7126e24e",
   "metadata": {},
   "source": [
    "### Patterns"
   ]
  },
  {
   "cell_type": "code",
   "execution_count": 22,
   "id": "86e226b0",
   "metadata": {},
   "outputs": [
    {
     "name": "stdout",
     "output_type": "stream",
     "text": [
      "5\n",
      "*****\n",
      "*****\n",
      "*****\n",
      "*****\n",
      "*****\n"
     ]
    }
   ],
   "source": [
    "n=int(input())\n",
    "\n",
    "i=1\n",
    "while(i<=n):\n",
    "    j=1\n",
    "    while(j<=n):\n",
    "        print(\"*\",end=\"\")\n",
    "        j+=1\n",
    "    print()\n",
    "    i+=1"
   ]
  },
  {
   "cell_type": "markdown",
   "id": "2664fa7b",
   "metadata": {},
   "source": [
    "ord() method return the ascii value of a character and chr() method is used to get the character from a ascii value"
   ]
  },
  {
   "cell_type": "code",
   "execution_count": 23,
   "id": "659a7dec",
   "metadata": {},
   "outputs": [
    {
     "name": "stdout",
     "output_type": "stream",
     "text": [
      "5\n",
      "A\n",
      "BC\n",
      "CDE\n",
      "DEFG\n",
      "EFGHI\n"
     ]
    }
   ],
   "source": [
    "n=int(input())\n",
    "i=1\n",
    "while(i<=n):\n",
    "    j=1\n",
    "    start_char=chr(ord('A')+i-1)\n",
    "    while(j<=i):\n",
    "        target_char=chr(ord(start_char)+j-1)\n",
    "        print(target_char,end=\"\")\n",
    "        j+=1\n",
    "    print()\n",
    "    i+=1"
   ]
  },
  {
   "cell_type": "code",
   "execution_count": 27,
   "id": "88d8f3f8",
   "metadata": {},
   "outputs": [
    {
     "name": "stdout",
     "output_type": "stream",
     "text": [
      "5\n",
      "    1\n",
      "   121\n",
      "  12321\n",
      " 1234321\n",
      "123454321\n"
     ]
    }
   ],
   "source": [
    "n=int(input())\n",
    "i=1\n",
    "while(i<=n):\n",
    "    \n",
    "    # spaces\n",
    "    spaces=1\n",
    "    while(spaces<=n-i):\n",
    "        print(\" \",end=\"\")\n",
    "        spaces+=1\n",
    "    \n",
    "    # increasing\n",
    "    increase=1\n",
    "    while(increase<=i):\n",
    "        print(increase,end=\"\")\n",
    "        increase+=1\n",
    "        \n",
    "    # decreasing\n",
    "    decrease=i-1\n",
    "    while(decrease>=1):\n",
    "        print(decrease,end=\"\")\n",
    "        decrease-=1\n",
    "    \n",
    "    print()\n",
    "    i+=1"
   ]
  }
 ],
 "metadata": {
  "kernelspec": {
   "display_name": "Python 3 (ipykernel)",
   "language": "python",
   "name": "python3"
  },
  "language_info": {
   "codemirror_mode": {
    "name": "ipython",
    "version": 3
   },
   "file_extension": ".py",
   "mimetype": "text/x-python",
   "name": "python",
   "nbconvert_exporter": "python",
   "pygments_lexer": "ipython3",
   "version": "3.9.12"
  }
 },
 "nbformat": 4,
 "nbformat_minor": 5
}
