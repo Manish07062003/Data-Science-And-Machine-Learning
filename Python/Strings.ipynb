{
 "cells": [
  {
   "cell_type": "markdown",
   "id": "75746c5c",
   "metadata": {},
   "source": [
    "# Strings"
   ]
  },
  {
   "cell_type": "code",
   "execution_count": 4,
   "id": "36385589",
   "metadata": {
    "scrolled": true
   },
   "outputs": [
    {
     "name": "stdout",
     "output_type": "stream",
     "text": [
      "abc def\n"
     ]
    }
   ],
   "source": [
    "a=\"abc def\"\n",
    "print(a)"
   ]
  },
  {
   "cell_type": "markdown",
   "id": "0a05f5eb",
   "metadata": {},
   "source": [
    "### Since variable a is a sequence we can iterate over a without a range function"
   ]
  },
  {
   "cell_type": "code",
   "execution_count": 2,
   "id": "493164f9",
   "metadata": {},
   "outputs": [
    {
     "name": "stdout",
     "output_type": "stream",
     "text": [
      "a\n",
      "b\n",
      "c\n",
      " \n",
      "d\n",
      "e\n",
      "f\n"
     ]
    }
   ],
   "source": [
    "for i in a:\n",
    "    print(i)"
   ]
  },
  {
   "cell_type": "markdown",
   "id": "a75401f2",
   "metadata": {},
   "source": [
    "### Strings are immutable (Not the variable, we can reassign the variable with a new string) , you cannot changed once it is created"
   ]
  },
  {
   "cell_type": "code",
   "execution_count": 3,
   "id": "61908474",
   "metadata": {},
   "outputs": [
    {
     "ename": "TypeError",
     "evalue": "'str' object does not support item assignment",
     "output_type": "error",
     "traceback": [
      "\u001b[0;31m---------------------------------------------------------------------------\u001b[0m",
      "\u001b[0;31mTypeError\u001b[0m                                 Traceback (most recent call last)",
      "\u001b[0;32m/var/folders/h0/ssxp0pb56tzgv9f4khbw19t80000gn/T/ipykernel_16415/127993176.py\u001b[0m in \u001b[0;36m<module>\u001b[0;34m\u001b[0m\n\u001b[0;32m----> 1\u001b[0;31m \u001b[0ma\u001b[0m\u001b[0;34m[\u001b[0m\u001b[0;36m1\u001b[0m\u001b[0;34m]\u001b[0m\u001b[0;34m=\u001b[0m\u001b[0;34m'z'\u001b[0m\u001b[0;34m\u001b[0m\u001b[0;34m\u001b[0m\u001b[0m\n\u001b[0m",
      "\u001b[0;31mTypeError\u001b[0m: 'str' object does not support item assignment"
     ]
    }
   ],
   "source": [
    "a[1]='z'"
   ]
  },
  {
   "cell_type": "markdown",
   "id": "821098c8",
   "metadata": {},
   "source": [
    "## Strings inbuilt Functions"
   ]
  },
  {
   "cell_type": "code",
   "execution_count": 6,
   "id": "9e616fa2",
   "metadata": {},
   "outputs": [
    {
     "ename": "SyntaxError",
     "evalue": "invalid syntax (857588861.py, line 1)",
     "output_type": "error",
     "traceback": [
      "\u001b[0;36m  File \u001b[0;32m\"/var/folders/h0/ssxp0pb56tzgv9f4khbw19t80000gn/T/ipykernel_16415/857588861.py\"\u001b[0;36m, line \u001b[0;32m1\u001b[0m\n\u001b[0;31m    a=\"This is Manish's pen.He said \"Life is great\"\u001b[0m\n\u001b[0m                                     ^\u001b[0m\n\u001b[0;31mSyntaxError\u001b[0m\u001b[0;31m:\u001b[0m invalid syntax\n"
     ]
    }
   ],
   "source": [
    "a=\"This is Manish's pen.He said \"Life is great\"\n",
    "print(a)"
   ]
  },
  {
   "cell_type": "markdown",
   "id": "6f26ff36",
   "metadata": {},
   "source": [
    "### If we want to use a double qoutes inside a string we can use it using escaping(\\)"
   ]
  },
  {
   "cell_type": "code",
   "execution_count": 10,
   "id": "7374703e",
   "metadata": {},
   "outputs": [
    {
     "name": "stdout",
     "output_type": "stream",
     "text": [
      "This is Manish's pen.He said \"Life is great\"\n"
     ]
    }
   ],
   "source": [
    "a=\"This is Manish's pen.He said \\\"Life is great\\\"\"\n",
    "print(a)"
   ]
  },
  {
   "cell_type": "markdown",
   "id": "ed807fa3",
   "metadata": {},
   "source": [
    "### Concatination of Strings"
   ]
  },
  {
   "cell_type": "code",
   "execution_count": 12,
   "id": "9f88ead8",
   "metadata": {},
   "outputs": [
    {
     "name": "stdout",
     "output_type": "stream",
     "text": [
      "This is Manish's pen. He said \"Life is Great\"\n"
     ]
    }
   ],
   "source": [
    "a=\"This is Manish's pen. \"\n",
    "b=\"He said \\\"Life is Great\\\"\"\n",
    "c=a+b\n",
    "print(c)"
   ]
  },
  {
   "cell_type": "markdown",
   "id": "9ba23e7d",
   "metadata": {},
   "source": [
    "### We cannot concat a string with an integer."
   ]
  },
  {
   "cell_type": "code",
   "execution_count": 45,
   "id": "9ee94608",
   "metadata": {},
   "outputs": [
    {
     "ename": "TypeError",
     "evalue": "can only concatenate str (not \"int\") to str",
     "output_type": "error",
     "traceback": [
      "\u001b[0;31m---------------------------------------------------------------------------\u001b[0m",
      "\u001b[0;31mTypeError\u001b[0m                                 Traceback (most recent call last)",
      "\u001b[0;32m/var/folders/h0/ssxp0pb56tzgv9f4khbw19t80000gn/T/ipykernel_16415/2008595038.py\u001b[0m in \u001b[0;36m<module>\u001b[0;34m\u001b[0m\n\u001b[0;32m----> 1\u001b[0;31m \u001b[0ma\u001b[0m\u001b[0;34m+\u001b[0m\u001b[0;36m12\u001b[0m\u001b[0;34m\u001b[0m\u001b[0;34m\u001b[0m\u001b[0m\n\u001b[0m",
      "\u001b[0;31mTypeError\u001b[0m: can only concatenate str (not \"int\") to str"
     ]
    }
   ],
   "source": [
    "a+12"
   ]
  },
  {
   "cell_type": "markdown",
   "id": "6a22a246",
   "metadata": {},
   "source": [
    "## Comparisions"
   ]
  },
  {
   "cell_type": "code",
   "execution_count": 13,
   "id": "f5c491d2",
   "metadata": {},
   "outputs": [
    {
     "data": {
      "text/plain": [
       "False"
      ]
     },
     "execution_count": 13,
     "metadata": {},
     "output_type": "execute_result"
    }
   ],
   "source": [
    "a==b"
   ]
  },
  {
   "cell_type": "code",
   "execution_count": 16,
   "id": "fbe9bd88",
   "metadata": {},
   "outputs": [
    {
     "data": {
      "text/plain": [
       "True"
      ]
     },
     "execution_count": 16,
     "metadata": {},
     "output_type": "execute_result"
    }
   ],
   "source": [
    "# compares lexicographically\n",
    "a>b\n"
   ]
  },
  {
   "cell_type": "markdown",
   "id": "f663bbfb",
   "metadata": {},
   "source": [
    "## Split Function\n",
    "### Split function splits the string into list of strings seperated by the specified delimiter (by default the delimiter is white space)"
   ]
  },
  {
   "cell_type": "code",
   "execution_count": 25,
   "id": "f3df1bb3",
   "metadata": {},
   "outputs": [
    {
     "name": "stdout",
     "output_type": "stream",
     "text": [
      "['This', 'is', 'a', 'str'] <class 'list'>\n"
     ]
    }
   ],
   "source": [
    "a=\"This is a str\"\n",
    "b=a.split()\n",
    "print(b,type(b))"
   ]
  },
  {
   "cell_type": "markdown",
   "id": "b928d732",
   "metadata": {},
   "source": [
    "## Replace Function\n",
    "\n",
    "It returns a new replaced string but doesn't change the original one's."
   ]
  },
  {
   "cell_type": "code",
   "execution_count": 27,
   "id": "c9de4cea",
   "metadata": {},
   "outputs": [
    {
     "name": "stdout",
     "output_type": "stream",
     "text": [
      "This is a str\n",
      "Thare are a str\n"
     ]
    }
   ],
   "source": [
    "a=\"This is a str\"\n",
    "b=a.replace(\"is\",\"are\")\n",
    "print(a)\n",
    "print(b)"
   ]
  },
  {
   "cell_type": "code",
   "execution_count": 40,
   "id": "39eb0acd",
   "metadata": {},
   "outputs": [
    {
     "data": {
      "text/plain": [
       "2"
      ]
     },
     "execution_count": 40,
     "metadata": {},
     "output_type": "execute_result"
    }
   ],
   "source": [
    "# Finds whether a string is present is a string or not\n",
    "a.find(\"is\")"
   ]
  },
  {
   "cell_type": "code",
   "execution_count": 38,
   "id": "0602415d",
   "metadata": {},
   "outputs": [
    {
     "data": {
      "text/plain": [
       "'this is a str'"
      ]
     },
     "execution_count": 38,
     "metadata": {},
     "output_type": "execute_result"
    }
   ],
   "source": [
    "# converts to lower and return it\n",
    "a.lower()"
   ]
  },
  {
   "cell_type": "code",
   "execution_count": 39,
   "id": "8945cbdf",
   "metadata": {},
   "outputs": [
    {
     "data": {
      "text/plain": [
       "'THIS IS A STR'"
      ]
     },
     "execution_count": 39,
     "metadata": {},
     "output_type": "execute_result"
    }
   ],
   "source": [
    "# converts a to upper case and return it\n",
    "a.upper()"
   ]
  },
  {
   "cell_type": "markdown",
   "id": "23aa0d05",
   "metadata": {},
   "source": [
    "### isapha() function check whether the strings contains all alphabets or not"
   ]
  },
  {
   "cell_type": "code",
   "execution_count": 37,
   "id": "f5e9cb30",
   "metadata": {},
   "outputs": [
    {
     "data": {
      "text/plain": [
       "False"
      ]
     },
     "execution_count": 37,
     "metadata": {},
     "output_type": "execute_result"
    }
   ],
   "source": [
    "a.isalpha()"
   ]
  },
  {
   "cell_type": "code",
   "execution_count": 46,
   "id": "08cfb227",
   "metadata": {},
   "outputs": [
    {
     "data": {
      "text/plain": [
       "True"
      ]
     },
     "execution_count": 46,
     "metadata": {},
     "output_type": "execute_result"
    }
   ],
   "source": [
    "# checks whether the string starts with a specific string or not\n",
    "a.startswith(\"This\")"
   ]
  },
  {
   "cell_type": "markdown",
   "id": "2752fe92",
   "metadata": {},
   "source": [
    "## String Slicing"
   ]
  },
  {
   "cell_type": "code",
   "execution_count": 47,
   "id": "077cf7d0",
   "metadata": {},
   "outputs": [],
   "source": [
    "a=\"This is Slicing\""
   ]
  },
  {
   "cell_type": "code",
   "execution_count": 49,
   "id": "a6de94ed",
   "metadata": {},
   "outputs": [
    {
     "data": {
      "text/plain": [
       "'is is Sl'"
      ]
     },
     "execution_count": 49,
     "metadata": {},
     "output_type": "execute_result"
    }
   ],
   "source": [
    "# goes to the 2 index string (is) then from there it will go till 10-1 indexed character\n",
    "a[2:10]"
   ]
  },
  {
   "cell_type": "code",
   "execution_count": 58,
   "id": "e3e2c165",
   "metadata": {},
   "outputs": [
    {
     "data": {
      "text/plain": [
       "'is is Slicing'"
      ]
     },
     "execution_count": 58,
     "metadata": {},
     "output_type": "execute_result"
    }
   ],
   "source": [
    "# goes till the end if dont specify any end point\n",
    "a[2:]"
   ]
  },
  {
   "cell_type": "code",
   "execution_count": 65,
   "id": "d13c9d6c",
   "metadata": {},
   "outputs": [
    {
     "data": {
      "text/plain": [
       "'This '"
      ]
     },
     "execution_count": 65,
     "metadata": {},
     "output_type": "execute_result"
    }
   ],
   "source": [
    "# starts from 0 if we dont give any starting point\n",
    "a[:5]"
   ]
  },
  {
   "cell_type": "code",
   "execution_count": 67,
   "id": "0d55d397",
   "metadata": {},
   "outputs": [
    {
     "name": "stdout",
     "output_type": "stream",
     "text": [
      "adbbxser\n",
      "adbbyser\n"
     ]
    }
   ],
   "source": [
    "# replace first occurance of 'x' with 'y'\n",
    "s=input()\n",
    "pos=s.find('x')\n",
    "ans=s\n",
    "if (pos!=-1):\n",
    "    ans=s[:pos]+'y'+s[pos+1:]\n",
    "\n",
    "print(ans)"
   ]
  },
  {
   "cell_type": "code",
   "execution_count": 89,
   "id": "40b633e8",
   "metadata": {},
   "outputs": [
    {
     "name": "stdout",
     "output_type": "stream",
     "text": [
      "abcxsdfxxsxfx\n",
      "abcysdfyysyfy\n"
     ]
    }
   ],
   "source": [
    "#replace all occurances of 'x' with 'y'\n",
    "s=input()\n",
    "ans=s\n",
    "for i in range(0,len(s)):\n",
    "    if(ans[i]=='x'):\n",
    "        ans=ans[:i]+'y'+ans[i+1:]\n",
    "    \n",
    "print(ans)"
   ]
  }
 ],
 "metadata": {
  "kernelspec": {
   "display_name": "Python 3 (ipykernel)",
   "language": "python",
   "name": "python3"
  },
  "language_info": {
   "codemirror_mode": {
    "name": "ipython",
    "version": 3
   },
   "file_extension": ".py",
   "mimetype": "text/x-python",
   "name": "python",
   "nbconvert_exporter": "python",
   "pygments_lexer": "ipython3",
   "version": "3.9.12"
  }
 },
 "nbformat": 4,
 "nbformat_minor": 5
}
