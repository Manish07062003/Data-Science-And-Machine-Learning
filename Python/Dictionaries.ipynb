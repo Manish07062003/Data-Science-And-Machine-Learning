{
 "cells": [
  {
   "cell_type": "markdown",
   "id": "9d30a840",
   "metadata": {},
   "source": [
    "# Dictionaries\n",
    "\n",
    "### In dictionaries we can store whatever key-value pair, like in lists keys can be only from 0 to len-1,but in dictionaries the key can be a string (\"the\") , char ,etc.\n",
    "\n",
    "### They are created using {} flower brackets;"
   ]
  },
  {
   "cell_type": "code",
   "execution_count": 1,
   "id": "77e54347",
   "metadata": {},
   "outputs": [
    {
     "name": "stdout",
     "output_type": "stream",
     "text": [
      "{'the': 3, 'a': 5, 1000: 'str'}\n",
      "<class 'dict'>\n"
     ]
    }
   ],
   "source": [
    "a = {\"the\":3,'a':5,1000:\"str\"}\n",
    "print(a)\n",
    "print(type(a))"
   ]
  },
  {
   "cell_type": "code",
   "execution_count": 2,
   "id": "25820d2d",
   "metadata": {},
   "outputs": [
    {
     "data": {
      "text/plain": [
       "3"
      ]
     },
     "execution_count": 2,
     "metadata": {},
     "output_type": "execute_result"
    }
   ],
   "source": [
    "len(a)"
   ]
  },
  {
   "cell_type": "code",
   "execution_count": 5,
   "id": "955f4308",
   "metadata": {},
   "outputs": [
    {
     "name": "stdout",
     "output_type": "stream",
     "text": [
      "{'the': 3, 'a': 5, 1000: 'str'}\n",
      "140612621190400\n",
      "140612621097088\n"
     ]
    }
   ],
   "source": [
    "# to copy a dictionary to another variable\n",
    "b=a.copy()\n",
    "print(b)\n",
    "print(id(a))\n",
    "print(id(b))"
   ]
  },
  {
   "cell_type": "code",
   "execution_count": 7,
   "id": "a03325a4",
   "metadata": {},
   "outputs": [
    {
     "name": "stdout",
     "output_type": "stream",
     "text": [
      "{'this': 2, 'a': 5}\n"
     ]
    }
   ],
   "source": [
    "# another syntax for creating dictionaries\n",
    "c=dict([(\"this\",2),('a',5)])\n",
    "print(c)"
   ]
  },
  {
   "cell_type": "code",
   "execution_count": 9,
   "id": "512ba0fa",
   "metadata": {},
   "outputs": [
    {
     "name": "stdout",
     "output_type": "stream",
     "text": [
      "{'abc': None, 56: None, 10: None, 'str': None}\n"
     ]
    }
   ],
   "source": [
    "# to create only key in a dictionary\n",
    "c=dict.fromkeys([\"abc\",56,10,\"str\"])\n",
    "print(c)"
   ]
  },
  {
   "cell_type": "code",
   "execution_count": 11,
   "id": "004205fe",
   "metadata": {},
   "outputs": [
    {
     "name": "stdout",
     "output_type": "stream",
     "text": [
      "{'abc': 0, 56: 0, 10: 0, 'str': 0}\n"
     ]
    }
   ],
   "source": [
    "# we can set a default values for all the keys\n",
    "c=dict.fromkeys([\"abc\",56,10,\"str\"],0)\n",
    "print(c)"
   ]
  },
  {
   "cell_type": "code",
   "execution_count": 12,
   "id": "43a59caf",
   "metadata": {},
   "outputs": [
    {
     "data": {
      "text/plain": [
       "3"
      ]
     },
     "execution_count": 12,
     "metadata": {},
     "output_type": "execute_result"
    }
   ],
   "source": [
    "# accessing data\n",
    "a = {\"the\":3,'a':5,1000:\"str\"}\n",
    "a[\"the\"]"
   ]
  },
  {
   "cell_type": "code",
   "execution_count": 13,
   "id": "9c214753",
   "metadata": {},
   "outputs": [
    {
     "data": {
      "text/plain": [
       "3"
      ]
     },
     "execution_count": 13,
     "metadata": {},
     "output_type": "execute_result"
    }
   ],
   "source": [
    "# another way of accessing data\n",
    "a.get(\"the\")"
   ]
  },
  {
   "cell_type": "markdown",
   "id": "cacb3e80",
   "metadata": {},
   "source": [
    "### Incase of accessing a key that is not present in the dictionary [] this will give an error but get() function will give a none as output"
   ]
  },
  {
   "cell_type": "code",
   "execution_count": 16,
   "id": "be00cbcd",
   "metadata": {},
   "outputs": [
    {
     "name": "stdout",
     "output_type": "stream",
     "text": [
      "None\n"
     ]
    }
   ],
   "source": [
    "# if we access as a[\"t\"] it will give an error\n",
    "print(a.get(\"t\"))"
   ]
  },
  {
   "cell_type": "code",
   "execution_count": 18,
   "id": "696491f5",
   "metadata": {},
   "outputs": [
    {
     "name": "stdout",
     "output_type": "stream",
     "text": [
      "0\n"
     ]
    }
   ],
   "source": [
    "# if we want another value instead of none if the key is not present\n",
    "print(a.get(\"t\",0))"
   ]
  },
  {
   "cell_type": "code",
   "execution_count": 19,
   "id": "ed1a2df0",
   "metadata": {},
   "outputs": [
    {
     "data": {
      "text/plain": [
       "3"
      ]
     },
     "execution_count": 19,
     "metadata": {},
     "output_type": "execute_result"
    }
   ],
   "source": [
    "a.get(\"the\",0)"
   ]
  },
  {
   "cell_type": "code",
   "execution_count": 20,
   "id": "51a46e9d",
   "metadata": {},
   "outputs": [
    {
     "data": {
      "text/plain": [
       "dict_keys(['the', 'a', 1000])"
      ]
     },
     "execution_count": 20,
     "metadata": {},
     "output_type": "execute_result"
    }
   ],
   "source": [
    "# to get all the keys\n",
    "a.keys()"
   ]
  },
  {
   "cell_type": "code",
   "execution_count": 21,
   "id": "ae51212d",
   "metadata": {},
   "outputs": [
    {
     "data": {
      "text/plain": [
       "dict_values([3, 5, 'str'])"
      ]
     },
     "execution_count": 21,
     "metadata": {},
     "output_type": "execute_result"
    }
   ],
   "source": [
    "# to get all the values\n",
    "a.values()"
   ]
  },
  {
   "cell_type": "code",
   "execution_count": 22,
   "id": "27765e3e",
   "metadata": {},
   "outputs": [
    {
     "data": {
      "text/plain": [
       "dict_items([('the', 3), ('a', 5), (1000, 'str')])"
      ]
     },
     "execution_count": 22,
     "metadata": {},
     "output_type": "execute_result"
    }
   ],
   "source": [
    "# to get all the pairs\n",
    "a.items()"
   ]
  },
  {
   "cell_type": "code",
   "execution_count": 23,
   "id": "ba147e79",
   "metadata": {},
   "outputs": [
    {
     "name": "stdout",
     "output_type": "stream",
     "text": [
      "the 3\n",
      "a 5\n",
      "1000 str\n"
     ]
    }
   ],
   "source": [
    "for i in a:\n",
    "    print(i,a[i])"
   ]
  },
  {
   "cell_type": "code",
   "execution_count": 24,
   "id": "ce4485f7",
   "metadata": {},
   "outputs": [
    {
     "data": {
      "text/plain": [
       "True"
      ]
     },
     "execution_count": 24,
     "metadata": {},
     "output_type": "execute_result"
    }
   ],
   "source": [
    "# to check whether a keys is present in dictionary or not\n",
    "\"the\" in a"
   ]
  },
  {
   "cell_type": "code",
   "execution_count": 26,
   "id": "c87b482b",
   "metadata": {},
   "outputs": [
    {
     "data": {
      "text/plain": [
       "False"
      ]
     },
     "execution_count": 26,
     "metadata": {},
     "output_type": "execute_result"
    }
   ],
   "source": [
    "'t' in a"
   ]
  },
  {
   "cell_type": "markdown",
   "id": "dfdeaad8",
   "metadata": {},
   "source": [
    "### Adding key-value pairs to the dictionary"
   ]
  },
  {
   "cell_type": "code",
   "execution_count": 28,
   "id": "c842eb06",
   "metadata": {},
   "outputs": [
    {
     "name": "stdout",
     "output_type": "stream",
     "text": [
      "{'the': 3, 'a': 5, 1000: 'str', 't': (1, 2)}\n"
     ]
    }
   ],
   "source": [
    "# if the key is not present it will append to the dictionary or if the key is present it will update its value\n",
    "a['t']=(1,2)\n",
    "print(a)"
   ]
  },
  {
   "cell_type": "code",
   "execution_count": 32,
   "id": "2c2ed969",
   "metadata": {},
   "outputs": [
    {
     "name": "stdout",
     "output_type": "stream",
     "text": [
      "{'a': 5, 1000: 'str', 't': (1, 2), 'b': [34, 2], -1: 50, 'the': -10}\n"
     ]
    }
   ],
   "source": [
    "b={\"b\":[34,2],\"the\":-10,-1:50}\n",
    "\n",
    "# this will update the value if the key in b is present in a or else it will append to a\n",
    "a.update(b)\n",
    "print(a)"
   ]
  },
  {
   "cell_type": "markdown",
   "id": "30dae6a0",
   "metadata": {},
   "source": [
    "### Removing key-value pairs from the dictionary"
   ]
  },
  {
   "cell_type": "code",
   "execution_count": 33,
   "id": "b0c74f48",
   "metadata": {},
   "outputs": [
    {
     "data": {
      "text/plain": [
       "-10"
      ]
     },
     "execution_count": 33,
     "metadata": {},
     "output_type": "execute_result"
    }
   ],
   "source": [
    "# returns the values of the removed key\n",
    "a.pop(\"the\")"
   ]
  },
  {
   "cell_type": "code",
   "execution_count": 34,
   "id": "29195736",
   "metadata": {},
   "outputs": [
    {
     "name": "stdout",
     "output_type": "stream",
     "text": [
      "{'a': 5, 1000: 'str', 't': (1, 2), 'b': [34, 2], -1: 50}\n"
     ]
    }
   ],
   "source": [
    "print(a)"
   ]
  },
  {
   "cell_type": "code",
   "execution_count": 35,
   "id": "c26e8f0f",
   "metadata": {},
   "outputs": [
    {
     "data": {
      "text/plain": [
       "{1000: 'str', 't': (1, 2), 'b': [34, 2], -1: 50}"
      ]
     },
     "execution_count": 35,
     "metadata": {},
     "output_type": "execute_result"
    }
   ],
   "source": [
    "del a['a']\n",
    "a"
   ]
  },
  {
   "cell_type": "code",
   "execution_count": 38,
   "id": "05ca27bf",
   "metadata": {},
   "outputs": [],
   "source": [
    "# remove everything all the key-value pairs but an empty dictionary will be assigned to a\n",
    "a.clear()"
   ]
  },
  {
   "cell_type": "code",
   "execution_count": 39,
   "id": "11251e5a",
   "metadata": {},
   "outputs": [
    {
     "data": {
      "text/plain": [
       "{}"
      ]
     },
     "execution_count": 39,
     "metadata": {},
     "output_type": "execute_result"
    }
   ],
   "source": [
    "a"
   ]
  },
  {
   "cell_type": "code",
   "execution_count": 40,
   "id": "33488725",
   "metadata": {},
   "outputs": [
    {
     "ename": "NameError",
     "evalue": "name 'a' is not defined",
     "output_type": "error",
     "traceback": [
      "\u001b[0;31m---------------------------------------------------------------------------\u001b[0m",
      "\u001b[0;31mNameError\u001b[0m                                 Traceback (most recent call last)",
      "\u001b[0;32m/var/folders/h0/ssxp0pb56tzgv9f4khbw19t80000gn/T/ipykernel_8002/1813237173.py\u001b[0m in \u001b[0;36m<module>\u001b[0;34m\u001b[0m\n\u001b[1;32m      1\u001b[0m \u001b[0;31m# to delete dictionary we use del\u001b[0m\u001b[0;34m\u001b[0m\u001b[0;34m\u001b[0m\u001b[0m\n\u001b[1;32m      2\u001b[0m \u001b[0;32mdel\u001b[0m \u001b[0ma\u001b[0m\u001b[0;34m\u001b[0m\u001b[0;34m\u001b[0m\u001b[0m\n\u001b[0;32m----> 3\u001b[0;31m \u001b[0ma\u001b[0m\u001b[0;34m\u001b[0m\u001b[0;34m\u001b[0m\u001b[0m\n\u001b[0m",
      "\u001b[0;31mNameError\u001b[0m: name 'a' is not defined"
     ]
    }
   ],
   "source": [
    "# to delete dictionary we use del\n",
    "del a\n",
    "a"
   ]
  },
  {
   "cell_type": "code",
   "execution_count": 42,
   "id": "097750fa",
   "metadata": {},
   "outputs": [],
   "source": [
    "def kFreqWords(sentence,k):\n",
    "    words=sentence.split()\n",
    "    d={}\n",
    "    for w in words:\n",
    "        d[w]=d.get(w,0)+1\n",
    "    for w in d:\n",
    "        if(d[w]==k):\n",
    "            print(w)"
   ]
  },
  {
   "cell_type": "code",
   "execution_count": 43,
   "id": "84841a1a",
   "metadata": {},
   "outputs": [
    {
     "name": "stdout",
     "output_type": "stream",
     "text": [
      "This is the words string having many many words\n",
      "2\n",
      "words\n",
      "many\n"
     ]
    }
   ],
   "source": [
    "s=input()\n",
    "k=int(input())\n",
    "kFreqWords(s,k)"
   ]
  },
  {
   "cell_type": "code",
   "execution_count": 44,
   "id": "170a35b3",
   "metadata": {},
   "outputs": [
    {
     "data": {
      "text/plain": [
       "True"
      ]
     },
     "execution_count": 44,
     "metadata": {},
     "output_type": "execute_result"
    }
   ],
   "source": [
    "arr=[0]\n",
    "d={}\n",
    "not(arr[0] in d)"
   ]
  },
  {
   "cell_type": "code",
   "execution_count": null,
   "id": "09ce0245",
   "metadata": {},
   "outputs": [],
   "source": []
  }
 ],
 "metadata": {
  "kernelspec": {
   "display_name": "Python 3 (ipykernel)",
   "language": "python",
   "name": "python3"
  },
  "language_info": {
   "codemirror_mode": {
    "name": "ipython",
    "version": 3
   },
   "file_extension": ".py",
   "mimetype": "text/x-python",
   "name": "python",
   "nbconvert_exporter": "python",
   "pygments_lexer": "ipython3",
   "version": "3.9.12"
  }
 },
 "nbformat": 4,
 "nbformat_minor": 5
}
