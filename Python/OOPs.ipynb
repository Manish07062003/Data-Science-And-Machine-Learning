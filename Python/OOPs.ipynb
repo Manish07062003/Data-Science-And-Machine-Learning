{
 "cells": [
  {
   "cell_type": "markdown",
   "id": "ab68fc52",
   "metadata": {},
   "source": [
    "# OOPs\n",
    "\n",
    "### Class is a structure (blueprint) of an object\n",
    "### Object is an instance of a class"
   ]
  },
  {
   "cell_type": "markdown",
   "id": "71ada3a8",
   "metadata": {},
   "source": [
    "## Types of Attributes\n",
    "\n",
    "### Instance attributes - attributes which are different for different objects; (ex: name, age, etc)\n",
    "\n",
    "### Class attributes - attribute which are same for all objects; (ex: total students )\n",
    "\n",
    "### Objects can have different instance attributes unlike java and c++ for example a student object can have name and age , another student object can have only roll no. and so on"
   ]
  },
  {
   "cell_type": "code",
   "execution_count": 1,
   "id": "cde7e8a7",
   "metadata": {},
   "outputs": [],
   "source": [
    "# we create a class using class keyword\n",
    "class Student:\n",
    "    pass\n",
    "# we a create a object using class name\n",
    "s1=Student()\n",
    "s2=Student()\n",
    "s3=Student()"
   ]
  },
  {
   "cell_type": "code",
   "execution_count": 3,
   "id": "edd1460e",
   "metadata": {},
   "outputs": [],
   "source": [
    "# adding attributes\n",
    "#if s1 object doesnot have name attribute then it will name attribute to that object or else it will update the name attribute\n",
    "s1.name=\"Manish\"\n",
    "s1.age=19\n",
    "\n",
    "s2.rollNo=\"20mcme11\""
   ]
  },
  {
   "cell_type": "code",
   "execution_count": 7,
   "id": "2514082c",
   "metadata": {},
   "outputs": [
    {
     "name": "stdout",
     "output_type": "stream",
     "text": [
      "{'name': 'Manish', 'age': 19}\n",
      "{'rollNo': '20mcme11'}\n"
     ]
    }
   ],
   "source": [
    "# to print all the attributes of object we use objectName.__dict__\n",
    "print(s1.__dict__)\n",
    "print(s2.__dict__)"
   ]
  },
  {
   "cell_type": "code",
   "execution_count": 12,
   "id": "9d08a3fd",
   "metadata": {},
   "outputs": [
    {
     "name": "stdout",
     "output_type": "stream",
     "text": [
      "True\n",
      "False\n"
     ]
    }
   ],
   "source": [
    "# to check whether a particular attribute is present in a object or not we use hasattr(objectName,attributeName)\n",
    "print(hasattr(s1,\"name\"))\n",
    "print(hasattr(s2,\"name\"))"
   ]
  },
  {
   "cell_type": "markdown",
   "id": "48208b6c",
   "metadata": {},
   "source": [
    "### Class Attributes\n",
    "\n",
    "### These are created using the classname itself."
   ]
  },
  {
   "cell_type": "code",
   "execution_count": 13,
   "id": "13d11162",
   "metadata": {},
   "outputs": [],
   "source": [
    "Student.totalStudents=20"
   ]
  },
  {
   "cell_type": "code",
   "execution_count": 14,
   "id": "b84aefb2",
   "metadata": {},
   "outputs": [
    {
     "data": {
      "text/plain": [
       "mappingproxy({'__module__': '__main__',\n",
       "              '__dict__': <attribute '__dict__' of 'Student' objects>,\n",
       "              '__weakref__': <attribute '__weakref__' of 'Student' objects>,\n",
       "              '__doc__': None,\n",
       "              'totalStudents': 20})"
      ]
     },
     "execution_count": 14,
     "metadata": {},
     "output_type": "execute_result"
    }
   ],
   "source": [
    "Student.__dict__"
   ]
  },
  {
   "cell_type": "markdown",
   "id": "e95c1489",
   "metadata": {},
   "source": [
    "### Another way to add class attributes ( if we add attribute inside class keyword it is automatically considered as class attribute)"
   ]
  },
  {
   "cell_type": "code",
   "execution_count": 15,
   "id": "6de0e197",
   "metadata": {},
   "outputs": [],
   "source": [
    "class Student:\n",
    "    # class attributes\n",
    "    totalStudents=20\n",
    "    TeacherName=\"Pushpa\""
   ]
  },
  {
   "cell_type": "code",
   "execution_count": 16,
   "id": "867a09bc",
   "metadata": {},
   "outputs": [
    {
     "data": {
      "text/plain": [
       "mappingproxy({'__module__': '__main__',\n",
       "              'totalStudents': 20,\n",
       "              'TeacherName': 'Pushpa',\n",
       "              '__dict__': <attribute '__dict__' of 'Student' objects>,\n",
       "              '__weakref__': <attribute '__weakref__' of 'Student' objects>,\n",
       "              '__doc__': None})"
      ]
     },
     "execution_count": 16,
     "metadata": {},
     "output_type": "execute_result"
    }
   ],
   "source": [
    "Student.__dict__"
   ]
  },
  {
   "cell_type": "markdown",
   "id": "cfd0e6ef",
   "metadata": {},
   "source": [
    "### We can access class attributes using objects also"
   ]
  },
  {
   "cell_type": "code",
   "execution_count": 21,
   "id": "d4f47df6",
   "metadata": {},
   "outputs": [
    {
     "name": "stdout",
     "output_type": "stream",
     "text": [
      "20\n",
      "Pushpa\n"
     ]
    }
   ],
   "source": [
    "s1=Student()\n",
    "print(s1.totalStudents)\n",
    "print(s1.TeacherName)\n"
   ]
  },
  {
   "cell_type": "code",
   "execution_count": 22,
   "id": "0b22e5d3",
   "metadata": {},
   "outputs": [
    {
     "name": "stdout",
     "output_type": "stream",
     "text": [
      "{}\n"
     ]
    }
   ],
   "source": [
    "print(s1.__dict__)"
   ]
  },
  {
   "cell_type": "markdown",
   "id": "b544d44f",
   "metadata": {},
   "source": [
    "### When we try to update class attribute using object then it creates a instance attribute to that object but does not update the class attribute\n",
    "\n",
    "### We can update class attribute only using className"
   ]
  },
  {
   "cell_type": "code",
   "execution_count": 19,
   "id": "df6e8237",
   "metadata": {},
   "outputs": [],
   "source": [
    "s1.totalStudents=40"
   ]
  },
  {
   "cell_type": "code",
   "execution_count": 20,
   "id": "33f55f93",
   "metadata": {},
   "outputs": [
    {
     "name": "stdout",
     "output_type": "stream",
     "text": [
      "20\n",
      "40\n",
      "{'totalStudents': 40}\n"
     ]
    }
   ],
   "source": [
    "print(Student.totalStudents)\n",
    "print(s1.totalStudents)\n",
    "print(s1.__dict__)"
   ]
  },
  {
   "cell_type": "markdown",
   "id": "96cf622d",
   "metadata": {},
   "source": [
    "## Methods\n",
    "\n",
    "### Types of methods\n",
    "\n",
    "### 1) Instance methods - these methods are just like object instance attributes which are bounded to specific object (owned by object)\n",
    "\n",
    "### 2) class methods - these are the methods which should be owned by the class\n"
   ]
  },
  {
   "cell_type": "markdown",
   "id": "6c13e8a1",
   "metadata": {},
   "source": [
    "### Any method that is written inside class is considered as instance method by default"
   ]
  },
  {
   "cell_type": "code",
   "execution_count": 23,
   "id": "6309d12c",
   "metadata": {},
   "outputs": [],
   "source": [
    "class Student:\n",
    "    # class attributes\n",
    "    totalStudents=20\n",
    "    TeacherName=\"Pushpa\"\n",
    "    \n",
    "    # instance methods\n",
    "    def printHello():\n",
    "        print(\"Hello\")"
   ]
  },
  {
   "cell_type": "code",
   "execution_count": 24,
   "id": "7ac7c8c2",
   "metadata": {},
   "outputs": [
    {
     "ename": "TypeError",
     "evalue": "printHello() takes 0 positional arguments but 1 was given",
     "output_type": "error",
     "traceback": [
      "\u001b[0;31m---------------------------------------------------------------------------\u001b[0m",
      "\u001b[0;31mTypeError\u001b[0m                                 Traceback (most recent call last)",
      "\u001b[0;32m/var/folders/h0/ssxp0pb56tzgv9f4khbw19t80000gn/T/ipykernel_6029/162852916.py\u001b[0m in \u001b[0;36m<module>\u001b[0;34m\u001b[0m\n\u001b[1;32m      1\u001b[0m \u001b[0ms1\u001b[0m\u001b[0;34m=\u001b[0m\u001b[0mStudent\u001b[0m\u001b[0;34m(\u001b[0m\u001b[0;34m)\u001b[0m\u001b[0;34m\u001b[0m\u001b[0;34m\u001b[0m\u001b[0m\n\u001b[0;32m----> 2\u001b[0;31m \u001b[0ms1\u001b[0m\u001b[0;34m.\u001b[0m\u001b[0mprintHello\u001b[0m\u001b[0;34m(\u001b[0m\u001b[0;34m)\u001b[0m\u001b[0;34m\u001b[0m\u001b[0;34m\u001b[0m\u001b[0m\n\u001b[0m",
      "\u001b[0;31mTypeError\u001b[0m: printHello() takes 0 positional arguments but 1 was given"
     ]
    }
   ],
   "source": [
    "s1=Student()\n",
    "s1.printHello()"
   ]
  },
  {
   "cell_type": "markdown",
   "id": "19532e03",
   "metadata": {},
   "source": [
    "### When we try to access instance method using an object python by default send an object arguement to that method as Student.printHello(s1) so, we need to take this arguement in that instance method using \"self\" keyword, \"self\" keyword is nothing but \"this\" keyword in other languages. \"this\" or \"self\" keyword represents that particular object."
   ]
  },
  {
   "cell_type": "code",
   "execution_count": 32,
   "id": "6b3224ab",
   "metadata": {},
   "outputs": [],
   "source": [
    "class Student:\n",
    "    # class attributes\n",
    "    totalStudents=20\n",
    "    TeacherName=\"Pushpa\"\n",
    "    \n",
    "    # instance methods\n",
    "    def printHello(self):\n",
    "        print(\"Hello\")\n",
    "        \n",
    "    def print(self,str):\n",
    "        print(str)\n",
    "        \n",
    "    def printName(self):\n",
    "        print(self.name)"
   ]
  },
  {
   "cell_type": "code",
   "execution_count": 39,
   "id": "f86f120d",
   "metadata": {},
   "outputs": [
    {
     "name": "stdout",
     "output_type": "stream",
     "text": [
      "Hello\n"
     ]
    }
   ],
   "source": [
    "s1=Student()\n",
    "s1.printHello()"
   ]
  },
  {
   "cell_type": "code",
   "execution_count": 34,
   "id": "1b93a3a1",
   "metadata": {},
   "outputs": [
    {
     "name": "stdout",
     "output_type": "stream",
     "text": [
      "Manish\n"
     ]
    }
   ],
   "source": [
    "s1.print(\"Manish\")"
   ]
  },
  {
   "cell_type": "markdown",
   "id": "91787892",
   "metadata": {},
   "source": [
    "### In python every instance method should have first arguement as \"self\" keyword"
   ]
  },
  {
   "cell_type": "code",
   "execution_count": 31,
   "id": "c0cc0d9c",
   "metadata": {},
   "outputs": [
    {
     "ename": "AttributeError",
     "evalue": "'Student' object has no attribute 'printName'",
     "output_type": "error",
     "traceback": [
      "\u001b[0;31m---------------------------------------------------------------------------\u001b[0m",
      "\u001b[0;31mAttributeError\u001b[0m                            Traceback (most recent call last)",
      "\u001b[0;32m/var/folders/h0/ssxp0pb56tzgv9f4khbw19t80000gn/T/ipykernel_6029/4237357545.py\u001b[0m in \u001b[0;36m<module>\u001b[0;34m\u001b[0m\n\u001b[1;32m      1\u001b[0m \u001b[0ms1\u001b[0m\u001b[0;34m.\u001b[0m\u001b[0mname\u001b[0m\u001b[0;34m=\u001b[0m\u001b[0;34m\"Manish\"\u001b[0m\u001b[0;34m\u001b[0m\u001b[0;34m\u001b[0m\u001b[0m\n\u001b[0;32m----> 2\u001b[0;31m \u001b[0ms1\u001b[0m\u001b[0;34m.\u001b[0m\u001b[0mprintName\u001b[0m\u001b[0;34m(\u001b[0m\u001b[0;34m)\u001b[0m\u001b[0;34m\u001b[0m\u001b[0;34m\u001b[0m\u001b[0m\n\u001b[0m",
      "\u001b[0;31mAttributeError\u001b[0m: 'Student' object has no attribute 'printName'"
     ]
    }
   ],
   "source": [
    "s1.name=\"Manish\"\n",
    "s1.printName()"
   ]
  },
  {
   "cell_type": "markdown",
   "id": "49fce463",
   "metadata": {},
   "source": [
    "### so, in the printName() instance method the python will treat name as a local variable to that method block only, so to access the name instance attribute of s1 object we need to use self.name in printName() method"
   ]
  },
  {
   "cell_type": "code",
   "execution_count": 40,
   "id": "ac14c2ff",
   "metadata": {},
   "outputs": [
    {
     "name": "stdout",
     "output_type": "stream",
     "text": [
      "Manish\n"
     ]
    }
   ],
   "source": [
    "s1.name=\"Manish\"\n",
    "s1.printName()"
   ]
  },
  {
   "cell_type": "markdown",
   "id": "dce78c1a",
   "metadata": {},
   "source": [
    "## Constructors\n",
    "\n",
    "### It is automatically called by default when we create an object (instance of a class)\n",
    "\n",
    "### To create constructor we use def __init__():"
   ]
  },
  {
   "cell_type": "code",
   "execution_count": 42,
   "id": "3a8bbd7e",
   "metadata": {},
   "outputs": [],
   "source": [
    "class Student:\n",
    "    # class attributes\n",
    "    totalStudents=20\n",
    "    TeacherName=\"Pushpa\"\n",
    "    \n",
    "    # constructor\n",
    "    def __init__(self):\n",
    "        print(\"constructor is called\")\n",
    "    \n",
    "    \n",
    "    # instance methods\n",
    "    def printHello(self):\n",
    "        print(\"Hello\")\n",
    "        \n",
    "    def print(self,str):\n",
    "        print(str)\n",
    "        \n",
    "    def printName(self):\n",
    "        print(self.name)"
   ]
  },
  {
   "cell_type": "code",
   "execution_count": 43,
   "id": "409078c8",
   "metadata": {},
   "outputs": [
    {
     "name": "stdout",
     "output_type": "stream",
     "text": [
      "constructor is called\n"
     ]
    }
   ],
   "source": [
    "s1=Student()"
   ]
  },
  {
   "cell_type": "markdown",
   "id": "bac3ee92",
   "metadata": {},
   "source": [
    "### There will be a default constructor inside every class, once we create our own constructor the default constructor gets vanished\n",
    "\n",
    "### In python we cannot have more than one constructor unlike java and c++.\n",
    "\n",
    "### the use of constructor is to initialize the instance attributes"
   ]
  },
  {
   "cell_type": "code",
   "execution_count": 44,
   "id": "57b52a76",
   "metadata": {},
   "outputs": [],
   "source": [
    "class Student:\n",
    "    # class attributes\n",
    "    totalStudents=20\n",
    "    TeacherName=\"Pushpa\"\n",
    "    \n",
    "    # constructor\n",
    "    def __init__(self,name,age,rollNo):\n",
    "        print(\"constructor is called\")\n",
    "        self.name=name\n",
    "        self.age=age\n",
    "        self.rollNo=rollNo\n",
    "    \n",
    "    \n",
    "    # instance methods\n",
    "    def printHello(self):\n",
    "        print(\"Hello\")\n",
    "        \n",
    "    def print(self,str):\n",
    "        print(str)\n",
    "        \n",
    "    def printName(self):\n",
    "        print(self.name)"
   ]
  },
  {
   "cell_type": "code",
   "execution_count": 45,
   "id": "25bbe8ce",
   "metadata": {},
   "outputs": [
    {
     "name": "stdout",
     "output_type": "stream",
     "text": [
      "constructor is called\n",
      "{'name': 'Manish', 'age': 19, 'rollNo': 121}\n"
     ]
    }
   ],
   "source": [
    "s1=Student(\"Manish\",19,121)\n",
    "print(s1.__dict__)"
   ]
  },
  {
   "cell_type": "markdown",
   "id": "1e55ee0d",
   "metadata": {},
   "source": [
    "## Access Modifiers\n",
    "\n",
    "### Types of access modifiers\n",
    "\n",
    "### 1) Public - It is accessable every where\n",
    "\n",
    "### 2) Private - Can be accessed inside the class itself\n",
    "\n",
    "### 3) Protected - Can be accessed inside the class and inside the subclasses"
   ]
  },
  {
   "cell_type": "markdown",
   "id": "f34240ec",
   "metadata": {},
   "source": [
    "### To create a private attribute we use two underscores before that attribute (__name)"
   ]
  },
  {
   "cell_type": "code",
   "execution_count": 51,
   "id": "5124902c",
   "metadata": {},
   "outputs": [],
   "source": [
    "class Student:\n",
    "    # class attributes\n",
    "    totalStudents=20\n",
    "    TeacherName=\"Pushpa\"\n",
    "    \n",
    "    # constructor\n",
    "    def __init__(self,name,age,rollNo):\n",
    "        print(\"constructor is called\")\n",
    "        \n",
    "        # creating a private name variable\n",
    "        self.__name=name\n",
    "        \n",
    "        self.age=age\n",
    "        self.rollNo=rollNo\n",
    "    \n",
    "    \n",
    "    # instance methods\n",
    "    def printHello(self):\n",
    "        print(\"Hello\")\n",
    "        \n",
    "    def print(self,str):\n",
    "        print(str)\n",
    "        \n",
    "    def printName(self):\n",
    "        print(self.name)"
   ]
  },
  {
   "cell_type": "code",
   "execution_count": 53,
   "id": "fdc2dd39",
   "metadata": {},
   "outputs": [
    {
     "name": "stdout",
     "output_type": "stream",
     "text": [
      "constructor is called\n"
     ]
    }
   ],
   "source": [
    "s1=Student(\"manish\",3,43)"
   ]
  },
  {
   "cell_type": "code",
   "execution_count": 54,
   "id": "5d2e729c",
   "metadata": {},
   "outputs": [
    {
     "ename": "AttributeError",
     "evalue": "'Student' object has no attribute 'name'",
     "output_type": "error",
     "traceback": [
      "\u001b[0;31m---------------------------------------------------------------------------\u001b[0m",
      "\u001b[0;31mAttributeError\u001b[0m                            Traceback (most recent call last)",
      "\u001b[0;32m/var/folders/h0/ssxp0pb56tzgv9f4khbw19t80000gn/T/ipykernel_6029/3086778876.py\u001b[0m in \u001b[0;36m<module>\u001b[0;34m\u001b[0m\n\u001b[1;32m      1\u001b[0m \u001b[0;31m# since name is a private attribute we cannot access it outside the class\u001b[0m\u001b[0;34m\u001b[0m\u001b[0;34m\u001b[0m\u001b[0m\n\u001b[0;32m----> 2\u001b[0;31m \u001b[0ms1\u001b[0m\u001b[0;34m.\u001b[0m\u001b[0mname\u001b[0m\u001b[0;34m\u001b[0m\u001b[0;34m\u001b[0m\u001b[0m\n\u001b[0m",
      "\u001b[0;31mAttributeError\u001b[0m: 'Student' object has no attribute 'name'"
     ]
    }
   ],
   "source": [
    "# since name is a private attribute we cannot access it outside the class\n",
    "s1.name"
   ]
  },
  {
   "cell_type": "markdown",
   "id": "46daa377",
   "metadata": {},
   "source": [
    "### We can access the private properties outside the class using public getter setter methods and special syntax i.e, s1._Student__name"
   ]
  },
  {
   "cell_type": "code",
   "execution_count": 57,
   "id": "d4a178a6",
   "metadata": {},
   "outputs": [
    {
     "data": {
      "text/plain": [
       "'manish'"
      ]
     },
     "execution_count": 57,
     "metadata": {},
     "output_type": "execute_result"
    }
   ],
   "source": [
    "s1._Student__name"
   ]
  },
  {
   "cell_type": "markdown",
   "id": "7869c39e",
   "metadata": {},
   "source": [
    "## Class methods\n",
    "\n",
    "### To create a class method we use function decorators (@classmethod)\n",
    "\n",
    "### For every class method we need to pass \"cls\" arguement which represents to the class itself"
   ]
  },
  {
   "cell_type": "code",
   "execution_count": 60,
   "id": "810e344d",
   "metadata": {},
   "outputs": [],
   "source": [
    "class Student:\n",
    "    # private class attributes\n",
    "    __totalStudents=20\n",
    "    TeacherName=\"Pushpa\"\n",
    "    \n",
    "    @classmethod\n",
    "    def getTotalStudent(cls):\n",
    "        return Student.__totalStudents;\n",
    "    \n",
    "    # constructor\n",
    "    def __init__(self,name,age,rollNo):\n",
    "        print(\"constructor is called\")\n",
    "        \n",
    "        # creating a private name variable\n",
    "        self.__name=name\n",
    "        \n",
    "        self.age=age\n",
    "        self.rollNo=rollNo\n",
    "    \n",
    "    \n",
    "    # instance methods\n",
    "    def printHello(self):\n",
    "        print(\"Hello\")\n",
    "        \n",
    "    def print(self,str):\n",
    "        print(str)\n",
    "        \n",
    "    def printName(self):\n",
    "        print(self.name)"
   ]
  },
  {
   "cell_type": "code",
   "execution_count": 61,
   "id": "db8e7556",
   "metadata": {},
   "outputs": [
    {
     "name": "stdout",
     "output_type": "stream",
     "text": [
      "20\n"
     ]
    }
   ],
   "source": [
    "print(Student.getTotalStudent())"
   ]
  },
  {
   "cell_type": "code",
   "execution_count": 62,
   "id": "9fba3ba2",
   "metadata": {},
   "outputs": [
    {
     "name": "stdout",
     "output_type": "stream",
     "text": [
      "True\n"
     ]
    }
   ],
   "source": [
    "  class Student:\n",
    "      def __init__(self,name,age):\n",
    "          self.name = name\n",
    "          self.age = age\n",
    "      def print_student_details():\n",
    "          print(self.name, end=\" \" )\n",
    "          print(self.age)\n",
    "\n",
    "      @staticmethod\n",
    "      def isTeen(age):\n",
    "          return age>16\n",
    "\n",
    "  a = Student.isTeen(18)\n",
    "  print(a)"
   ]
  }
 ],
 "metadata": {
  "kernelspec": {
   "display_name": "Python 3 (ipykernel)",
   "language": "python",
   "name": "python3"
  },
  "language_info": {
   "codemirror_mode": {
    "name": "ipython",
    "version": 3
   },
   "file_extension": ".py",
   "mimetype": "text/x-python",
   "name": "python",
   "nbconvert_exporter": "python",
   "pygments_lexer": "ipython3",
   "version": "3.9.12"
  }
 },
 "nbformat": 4,
 "nbformat_minor": 5
}
