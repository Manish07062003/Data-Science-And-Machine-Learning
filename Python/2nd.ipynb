{
 "cells": [
  {
   "cell_type": "code",
   "execution_count": 70,
   "id": "438d2aeb",
   "metadata": {},
   "outputs": [],
   "source": [
    "import pandas as pd\n",
    "import matplotlib.pyplot as plt"
   ]
  },
  {
   "cell_type": "code",
   "execution_count": 114,
   "id": "eac3991d",
   "metadata": {},
   "outputs": [
    {
     "name": "stdout",
     "output_type": "stream",
     "text": [
      "       SNo        Date       StartupName   IndustryVertical  \\\n",
      "0        0  01/08/2017          TouchKin         Technology   \n",
      "1        1  02/08/2017           Ethinos         Technology   \n",
      "2        2  02/08/2017      Leverage Edu  Consumer Internet   \n",
      "3        3  02/08/2017              Zepo  Consumer Internet   \n",
      "4        4  02/08/2017      Click2Clinic  Consumer Internet   \n",
      "...    ...         ...               ...                ...   \n",
      "2367  2367  29/01/2015        Printvenue                NaN   \n",
      "2368  2368  29/01/2015          Graphene                NaN   \n",
      "2369  2369  30/01/2015    Mad Street Den                NaN   \n",
      "2370  2370  30/01/2015         Simplotel                NaN   \n",
      "2371  2371  31/01/2015  couponmachine.in                NaN   \n",
      "\n",
      "                                        SubVertical CityLocation  \\\n",
      "0                          Predictive Care Platform    Bangalore   \n",
      "1                          Digital Marketing Agency       Mumbai   \n",
      "2     Online platform for Higher Education Services    New Delhi   \n",
      "3                            DIY Ecommerce platform       Mumbai   \n",
      "4                     healthcare service aggregator    Hyderabad   \n",
      "...                                             ...          ...   \n",
      "2367                                            NaN          NaN   \n",
      "2368                                            NaN          NaN   \n",
      "2369                                            NaN          NaN   \n",
      "2370                                            NaN          NaN   \n",
      "2371                                            NaN          NaN   \n",
      "\n",
      "                                          InvestorsName  InvestmentType  \\\n",
      "0                                           Kae Capital  Private Equity   \n",
      "1                            Triton Investment Advisors  Private Equity   \n",
      "2     Kashyap Deorah, Anand Sankeshwar, Deepak Jain,...    Seed Funding   \n",
      "3     Kunal Shah, LetsVenture, Anupam Mittal, Hetal ...    Seed Funding   \n",
      "4                        Narottam Thudi, Shireesh Palle    Seed Funding   \n",
      "...                                                 ...             ...   \n",
      "2367                        Asia Pacific Internet Group  Private Equity   \n",
      "2368                                     KARSEMVEN Fund  Private Equity   \n",
      "2369                     Exfinity Fund, GrowX Ventures.  Private Equity   \n",
      "2370                                         MakeMyTrip  Private Equity   \n",
      "2371                  UK based Group of Angel Investors    Seed Funding   \n",
      "\n",
      "     AmountInUSD                            Remarks  \n",
      "0      1,300,000                                NaN  \n",
      "1            NaN                                NaN  \n",
      "2            NaN                                NaN  \n",
      "3        500,000                                NaN  \n",
      "4        850,000                                NaN  \n",
      "...          ...                                ...  \n",
      "2367   4,500,000                                NaN  \n",
      "2368     825,000                Govt backed VC Fund  \n",
      "2369   1,500,000                                NaN  \n",
      "2370         NaN  Strategic Funding, Minority stake  \n",
      "2371     140,000                                NaN  \n",
      "\n",
      "[2372 rows x 10 columns]\n"
     ]
    }
   ],
   "source": [
    "dataset=pd.read_csv(\"../Datasets/startup_funding.csv\")\n",
    "df=dataset.copy()\n",
    "print(df)"
   ]
  },
  {
   "cell_type": "code",
   "execution_count": 115,
   "id": "22cb0365",
   "metadata": {},
   "outputs": [
    {
     "name": "stdout",
     "output_type": "stream",
     "text": [
      "       SNo        Date       StartupName   IndustryVertical  \\\n",
      "0        0  01/08/2017          TouchKin         Technology   \n",
      "1        1  02/08/2017           Ethinos         Technology   \n",
      "2        2  02/08/2017      Leverage Edu  Consumer Internet   \n",
      "3        3  02/08/2017              Zepo  Consumer Internet   \n",
      "4        4  02/08/2017      Click2Clinic  Consumer Internet   \n",
      "...    ...         ...               ...                ...   \n",
      "2367  2367  29/01/2015        Printvenue                NaN   \n",
      "2368  2368  29/01/2015          Graphene                NaN   \n",
      "2369  2369  30/01/2015    Mad Street Den                NaN   \n",
      "2370  2370  30/01/2015         Simplotel                NaN   \n",
      "2371  2371  31/01/2015  couponmachine.in                NaN   \n",
      "\n",
      "                                        SubVertical CityLocation  \\\n",
      "0                          Predictive Care Platform    Bangalore   \n",
      "1                          Digital Marketing Agency       Mumbai   \n",
      "2     Online platform for Higher Education Services    New Delhi   \n",
      "3                            DIY Ecommerce platform       Mumbai   \n",
      "4                     healthcare service aggregator    Hyderabad   \n",
      "...                                             ...          ...   \n",
      "2367                                            NaN          NaN   \n",
      "2368                                            NaN          NaN   \n",
      "2369                                            NaN          NaN   \n",
      "2370                                            NaN          NaN   \n",
      "2371                                            NaN          NaN   \n",
      "\n",
      "                                          InvestorsName  InvestmentType  \\\n",
      "0                                           Kae Capital  Private Equity   \n",
      "1                            Triton Investment Advisors  Private Equity   \n",
      "2     Kashyap Deorah, Anand Sankeshwar, Deepak Jain,...    Seed Funding   \n",
      "3     Kunal Shah, LetsVenture, Anupam Mittal, Hetal ...    Seed Funding   \n",
      "4                        Narottam Thudi, Shireesh Palle    Seed Funding   \n",
      "...                                                 ...             ...   \n",
      "2367                        Asia Pacific Internet Group  Private Equity   \n",
      "2368                                     KARSEMVEN Fund  Private Equity   \n",
      "2369                     Exfinity Fund, GrowX Ventures.  Private Equity   \n",
      "2370                                         MakeMyTrip  Private Equity   \n",
      "2371                  UK based Group of Angel Investors    Seed Funding   \n",
      "\n",
      "     AmountInUSD                            Remarks  \n",
      "0      1,300,000                                NaN  \n",
      "1            NaN                                NaN  \n",
      "2            NaN                                NaN  \n",
      "3        500,000                                NaN  \n",
      "4        850,000                                NaN  \n",
      "...          ...                                ...  \n",
      "2367   4,500,000                                NaN  \n",
      "2368     825,000                Govt backed VC Fund  \n",
      "2369   1,500,000                                NaN  \n",
      "2370         NaN  Strategic Funding, Minority stake  \n",
      "2371     140,000                                NaN  \n",
      "\n",
      "[2364 rows x 10 columns]\n"
     ]
    }
   ],
   "source": [
    "df.dropna(subset=\"InvestorsName\",inplace=True)\n",
    "print(df)"
   ]
  },
  {
   "cell_type": "code",
   "execution_count": 116,
   "id": "5d99a77f",
   "metadata": {},
   "outputs": [
    {
     "name": "stdout",
     "output_type": "stream",
     "text": [
      "       SNo        Date       StartupName   IndustryVertical  \\\n",
      "0        0  01/08/2017          TouchKin         Technology   \n",
      "1        1  02/08/2017           Ethinos         Technology   \n",
      "2        2  02/08/2017      Leverage Edu  Consumer Internet   \n",
      "3        3  02/08/2017              Zepo  Consumer Internet   \n",
      "4        4  02/08/2017      Click2Clinic  Consumer Internet   \n",
      "...    ...         ...               ...                ...   \n",
      "2367  2367  29/01/2015        Printvenue                NaN   \n",
      "2368  2368  29/01/2015          Graphene                NaN   \n",
      "2369  2369  30/01/2015    Mad Street Den                NaN   \n",
      "2370  2370  30/01/2015         Simplotel                NaN   \n",
      "2371  2371  31/01/2015  couponmachine.in                NaN   \n",
      "\n",
      "                                        SubVertical CityLocation  \\\n",
      "0                          Predictive Care Platform    Bangalore   \n",
      "1                          Digital Marketing Agency       Mumbai   \n",
      "2     Online platform for Higher Education Services    New Delhi   \n",
      "3                            DIY Ecommerce platform       Mumbai   \n",
      "4                     healthcare service aggregator    Hyderabad   \n",
      "...                                             ...          ...   \n",
      "2367                                            NaN          NaN   \n",
      "2368                                            NaN          NaN   \n",
      "2369                                            NaN          NaN   \n",
      "2370                                            NaN          NaN   \n",
      "2371                                            NaN          NaN   \n",
      "\n",
      "                                          InvestorsName  InvestmentType  \\\n",
      "0                                           Kae Capital  Private Equity   \n",
      "1                            Triton Investment Advisors  Private Equity   \n",
      "2     Kashyap Deorah, Anand Sankeshwar, Deepak Jain,...    Seed Funding   \n",
      "3     Kunal Shah, LetsVenture, Anupam Mittal, Hetal ...    Seed Funding   \n",
      "4                        Narottam Thudi, Shireesh Palle    Seed Funding   \n",
      "...                                                 ...             ...   \n",
      "2367                        Asia Pacific Internet Group  Private Equity   \n",
      "2368                                     KARSEMVEN Fund  Private Equity   \n",
      "2369                     Exfinity Fund, GrowX Ventures.  Private Equity   \n",
      "2370                                         MakeMyTrip  Private Equity   \n",
      "2371                  UK based Group of Angel Investors    Seed Funding   \n",
      "\n",
      "     AmountInUSD                            Remarks  \n",
      "0      1,300,000                                NaN  \n",
      "1            NaN                                NaN  \n",
      "2            NaN                                NaN  \n",
      "3        500,000                                NaN  \n",
      "4        850,000                                NaN  \n",
      "...          ...                                ...  \n",
      "2367   4,500,000                                NaN  \n",
      "2368     825,000                Govt backed VC Fund  \n",
      "2369   1,500,000                                NaN  \n",
      "2370         NaN  Strategic Funding, Minority stake  \n",
      "2371     140,000                                NaN  \n",
      "\n",
      "[2290 rows x 10 columns]\n"
     ]
    }
   ],
   "source": [
    "df = df[df.InvestorsName != 'Undisclosed Investors']\n",
    "df = df[df.InvestorsName != 'Undisclosed investors']\n",
    "df = df[df.InvestorsName != 'undisclosed investors']\n",
    "df = df[df.InvestorsName != 'undisclosed investor']\n",
    "print(df)"
   ]
  },
  {
   "cell_type": "code",
   "execution_count": 117,
   "id": "7d66fd4e",
   "metadata": {},
   "outputs": [
    {
     "name": "stdout",
     "output_type": "stream",
     "text": [
      "['Sequoia Capital', 'Accel Partners', 'Kalaari Capital', 'SAIF Partners', 'Indian Angel Network']\n",
      "[64, 53, 44, 41, 40]\n"
     ]
    }
   ],
   "source": [
    "investor_names=[]\n",
    "for index,row in df.iterrows():\n",
    "    i=row[\"InvestorsName\"]\n",
    "    if(i!=\"\"):\n",
    "        temp=i.split(',')\n",
    "        for j in temp:\n",
    "            investor_names.append(j.strip())\n",
    "        \n",
    "dict={}\n",
    "for i in investor_names:\n",
    "    dict[i]=dict.get(i,0)+1\n",
    "    \n",
    "dict_keys_sorted=sorted(dict,key=dict.get,reverse=True)\n",
    "\n",
    "name=[]\n",
    "count=[]\n",
    "for i in range(5):\n",
    "    name.append(dict_keys_sorted[i])\n",
    "    count.append(dict[dict_keys_sorted[i]])\n",
    "print(name)\n",
    "print(count)"
   ]
  },
  {
   "cell_type": "code",
   "execution_count": 120,
   "id": "c8c4c77b",
   "metadata": {},
   "outputs": [
    {
     "data": {
      "image/png": "[encoded data removed]",
      "text/plain": [
       "<Figure size 640x480 with 1 Axes>"
      ]
     },
     "metadata": {},
     "output_type": "display_data"
    }
   ],
   "source": [
    "plt.pie(count,labels=name,autopct=\"%.2f%%\")\n",
    "plt.title(\"Top 5 Investors\")\n",
    "plt.axis(\"equal\")\n",
    "plt.show()"
   ]
  }
 ],
 "metadata": {
  "kernelspec": {
   "display_name": "Python 3 (ipykernel)",
   "language": "python",
   "name": "python3"
  },
  "language_info": {
   "codemirror_mode": {
    "name": "ipython",
    "version": 3
   },
   "file_extension": ".py",
   "mimetype": "text/x-python",
   "name": "python",
   "nbconvert_exporter": "python",
   "pygments_lexer": "ipython3",
   "version": "3.9.12"
  }
 },
 "nbformat": 4,
 "nbformat_minor": 5
}
