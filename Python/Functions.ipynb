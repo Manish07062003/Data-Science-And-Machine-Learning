{
 "cells": [
  {
   "cell_type": "markdown",
   "id": "bc9e9f72",
   "metadata": {},
   "source": [
    "# Functions\n",
    "\n",
    "### Makes the code readable and much more simpler. And avoids repetition of code\n",
    "\n",
    "### Testing becomes a lot more easier"
   ]
  },
  {
   "cell_type": "code",
   "execution_count": 1,
   "id": "6b83c2ea",
   "metadata": {},
   "outputs": [],
   "source": [
    "# function for n factorial\n",
    "def fact(n):\n",
    "    n_fact=1\n",
    "    for i in range(2,n+1):\n",
    "        n_fact*=i\n",
    "    return n_fact"
   ]
  },
  {
   "cell_type": "code",
   "execution_count": 3,
   "id": "112c0433",
   "metadata": {},
   "outputs": [
    {
     "name": "stdout",
     "output_type": "stream",
     "text": [
      "24\n"
     ]
    }
   ],
   "source": [
    "print(fact(4))"
   ]
  },
  {
   "cell_type": "code",
   "execution_count": 8,
   "id": "eacdb176",
   "metadata": {},
   "outputs": [],
   "source": [
    "def isPrime(n):\n",
    "    for i in range(2,n):\n",
    "        if(n%i==0):\n",
    "            break\n",
    "    else:\n",
    "        # comes here when the entire loops runs\n",
    "        return True\n",
    "    # comes here when the loops break at the if condition\n",
    "    return False"
   ]
  },
  {
   "cell_type": "code",
   "execution_count": 6,
   "id": "1268d51c",
   "metadata": {},
   "outputs": [
    {
     "data": {
      "text/plain": [
       "False"
      ]
     },
     "execution_count": 6,
     "metadata": {},
     "output_type": "execute_result"
    }
   ],
   "source": [
    "isPrime(10)"
   ]
  },
  {
   "cell_type": "code",
   "execution_count": 9,
   "id": "f4392dee",
   "metadata": {},
   "outputs": [
    {
     "data": {
      "text/plain": [
       "True"
      ]
     },
     "execution_count": 9,
     "metadata": {},
     "output_type": "execute_result"
    }
   ],
   "source": [
    "isPrime(17)"
   ]
  },
  {
   "cell_type": "code",
   "execution_count": 11,
   "id": "60297cac",
   "metadata": {},
   "outputs": [],
   "source": [
    "def print_prime_numbers_from_2_to_N(n):\n",
    "    for i in range(2,n+1):\n",
    "        if(isPrime(i)):\n",
    "            print(i)"
   ]
  },
  {
   "cell_type": "code",
   "execution_count": 14,
   "id": "9aeb6b63",
   "metadata": {},
   "outputs": [
    {
     "name": "stdout",
     "output_type": "stream",
     "text": [
      "2\n",
      "3\n",
      "5\n",
      "7\n",
      "11\n",
      "13\n",
      "17\n",
      "19\n"
     ]
    }
   ],
   "source": [
    "print_prime_numbers_from_2_to_N(20)"
   ]
  },
  {
   "cell_type": "markdown",
   "id": "041bef9e",
   "metadata": {},
   "source": [
    "### If we send a list as a parameter to a function, if we update a element in the list the original list also change since both the variables pointer towards the same address."
   ]
  },
  {
   "cell_type": "code",
   "execution_count": 16,
   "id": "02925eb1",
   "metadata": {},
   "outputs": [
    {
     "name": "stdout",
     "output_type": "stream",
     "text": [
      "[1, 2, 3]\n",
      "[2, 2, 3]\n"
     ]
    }
   ],
   "source": [
    "def change_value(l):\n",
    "    l[0]+=1\n",
    "a=[1,2,3]\n",
    "print(a)\n",
    "change_value(a)\n",
    "print(a)"
   ]
  },
  {
   "cell_type": "code",
   "execution_count": 17,
   "id": "d7580de1",
   "metadata": {},
   "outputs": [],
   "source": [
    "def swap_consecutive(l):\n",
    "    i=0\n",
    "    while(i+1<len(l)):\n",
    "        l[i],l[i+1]=l[i+1],l[i]\n",
    "        i+=2"
   ]
  },
  {
   "cell_type": "code",
   "execution_count": 19,
   "id": "e419b594",
   "metadata": {},
   "outputs": [
    {
     "name": "stdout",
     "output_type": "stream",
     "text": [
      "[1, 2, 3, 4, 5, 6, 7]\n",
      "[2, 1, 4, 3, 6, 5, 7]\n"
     ]
    }
   ],
   "source": [
    "a=[1,2,3,4,5,6,7]\n",
    "print(a)\n",
    "swap_consecutive(a)\n",
    "print(a)"
   ]
  },
  {
   "cell_type": "markdown",
   "id": "a0724423",
   "metadata": {},
   "source": [
    "## Local Variable is a variable that is defined inside a function\n",
    "\n",
    "## Global Variable is a variable that is defined outside any function"
   ]
  },
  {
   "cell_type": "code",
   "execution_count": 23,
   "id": "460289ff",
   "metadata": {},
   "outputs": [
    {
     "name": "stdout",
     "output_type": "stream",
     "text": [
      "10\n"
     ]
    },
    {
     "ename": "NameError",
     "evalue": "name 'b1' is not defined",
     "output_type": "error",
     "traceback": [
      "\u001b[0;31m---------------------------------------------------------------------------\u001b[0m",
      "\u001b[0;31mNameError\u001b[0m                                 Traceback (most recent call last)",
      "\u001b[0;32m/var/folders/h0/ssxp0pb56tzgv9f4khbw19t80000gn/T/ipykernel_5386/1791354117.py\u001b[0m in \u001b[0;36m<module>\u001b[0;34m\u001b[0m\n\u001b[1;32m      7\u001b[0m \u001b[0mprint\u001b[0m\u001b[0;34m(\u001b[0m\u001b[0ma\u001b[0m\u001b[0;34m)\u001b[0m\u001b[0;34m\u001b[0m\u001b[0;34m\u001b[0m\u001b[0m\n\u001b[1;32m      8\u001b[0m \u001b[0mf1\u001b[0m\u001b[0;34m(\u001b[0m\u001b[0;34m)\u001b[0m\u001b[0;34m\u001b[0m\u001b[0;34m\u001b[0m\u001b[0m\n\u001b[0;32m----> 9\u001b[0;31m \u001b[0mprint\u001b[0m\u001b[0;34m(\u001b[0m\u001b[0mb1\u001b[0m\u001b[0;34m)\u001b[0m \u001b[0;31m# cannot access the local variable outside the function\u001b[0m\u001b[0;34m\u001b[0m\u001b[0;34m\u001b[0m\u001b[0m\n\u001b[0m",
      "\u001b[0;31mNameError\u001b[0m: name 'b1' is not defined"
     ]
    }
   ],
   "source": [
    "# you can access a global variable inside a function only if it is defined before the function call\n",
    "#global variable\n",
    "a=10\n",
    "\n",
    "def f1():\n",
    "    b1=20 # local variable \n",
    "print(a)\n",
    "f1()\n",
    "print(b1) # cannot access the local variable outside the function"
   ]
  },
  {
   "cell_type": "markdown",
   "id": "fcc05dab",
   "metadata": {},
   "source": [
    "### To use the global variable and change it's value inside a function we use global keyword"
   ]
  },
  {
   "cell_type": "code",
   "execution_count": 26,
   "id": "64584c5a",
   "metadata": {},
   "outputs": [
    {
     "name": "stdout",
     "output_type": "stream",
     "text": [
      "34\n",
      "14\n",
      "140544466623184\n",
      "14\n",
      "140544466623184\n"
     ]
    }
   ],
   "source": [
    "a=34\n",
    "def f1():\n",
    "    global a\n",
    "    a=14 # it doesnot create a local variable but updates the global variable a\n",
    "    print(a)\n",
    "    print(id(a))\n",
    "\n",
    "print(a)\n",
    "f1()\n",
    "print(a)\n",
    "print(id(a))"
   ]
  },
  {
   "cell_type": "markdown",
   "id": "58fc4ece",
   "metadata": {},
   "source": [
    "## Default Arguments In Functions"
   ]
  },
  {
   "cell_type": "code",
   "execution_count": 27,
   "id": "cab4d723",
   "metadata": {},
   "outputs": [
    {
     "ename": "TypeError",
     "evalue": "f() missing 1 required positional argument: 'n'",
     "output_type": "error",
     "traceback": [
      "\u001b[0;31m---------------------------------------------------------------------------\u001b[0m",
      "\u001b[0;31mTypeError\u001b[0m                                 Traceback (most recent call last)",
      "\u001b[0;32m/var/folders/h0/ssxp0pb56tzgv9f4khbw19t80000gn/T/ipykernel_5386/622768088.py\u001b[0m in \u001b[0;36m<module>\u001b[0;34m\u001b[0m\n\u001b[1;32m      1\u001b[0m \u001b[0;32mdef\u001b[0m \u001b[0mf\u001b[0m\u001b[0;34m(\u001b[0m\u001b[0mn\u001b[0m\u001b[0;34m)\u001b[0m\u001b[0;34m:\u001b[0m\u001b[0;34m\u001b[0m\u001b[0;34m\u001b[0m\u001b[0m\n\u001b[1;32m      2\u001b[0m     \u001b[0mprint\u001b[0m\u001b[0;34m(\u001b[0m\u001b[0mn\u001b[0m\u001b[0;34m)\u001b[0m\u001b[0;34m\u001b[0m\u001b[0;34m\u001b[0m\u001b[0m\n\u001b[0;32m----> 3\u001b[0;31m \u001b[0mf\u001b[0m\u001b[0;34m(\u001b[0m\u001b[0;34m)\u001b[0m\u001b[0;34m\u001b[0m\u001b[0;34m\u001b[0m\u001b[0m\n\u001b[0m",
      "\u001b[0;31mTypeError\u001b[0m: f() missing 1 required positional argument: 'n'"
     ]
    }
   ],
   "source": [
    "def f(n):\n",
    "    print(n)\n",
    "f()"
   ]
  },
  {
   "cell_type": "code",
   "execution_count": 29,
   "id": "cd8c2ff1",
   "metadata": {},
   "outputs": [
    {
     "name": "stdout",
     "output_type": "stream",
     "text": [
      "12\n",
      "7\n"
     ]
    }
   ],
   "source": [
    "def sum(a, b, c = 0):\n",
    "    return a+b+c\n",
    "\n",
    "print(sum(3,4,5))\n",
    "print(sum(3,4))"
   ]
  },
  {
   "cell_type": "markdown",
   "id": "2159fb2a",
   "metadata": {},
   "source": [
    "### Non-default arguements should be at first followed by default arguements\n",
    "\n",
    "### Assigning of parameter are done from left to right"
   ]
  },
  {
   "cell_type": "code",
   "execution_count": 31,
   "id": "1e218547",
   "metadata": {
    "scrolled": true
   },
   "outputs": [
    {
     "ename": "SyntaxError",
     "evalue": "non-default argument follows default argument (3883083973.py, line 1)",
     "output_type": "error",
     "traceback": [
      "\u001b[0;36m  File \u001b[0;32m\"/var/folders/h0/ssxp0pb56tzgv9f4khbw19t80000gn/T/ipykernel_5386/3883083973.py\"\u001b[0;36m, line \u001b[0;32m1\u001b[0m\n\u001b[0;31m    def sum(a=0,b,c):\u001b[0m\n\u001b[0m                  ^\u001b[0m\n\u001b[0;31mSyntaxError\u001b[0m\u001b[0;31m:\u001b[0m non-default argument follows default argument\n"
     ]
    }
   ],
   "source": [
    "def sum(a=0,b,c):\n",
    "    return a+b+c\n",
    "sum(2,4)"
   ]
  },
  {
   "cell_type": "code",
   "execution_count": 33,
   "id": "1bf7ee77",
   "metadata": {},
   "outputs": [
    {
     "data": {
      "text/plain": [
       "12"
      ]
     },
     "execution_count": 33,
     "metadata": {},
     "output_type": "execute_result"
    }
   ],
   "source": [
    "def f(a,b,c=2,d=0):\n",
    "    return a+b+c+d\n",
    "\n",
    "f(2,3,d=5)"
   ]
  }
 ],
 "metadata": {
  "kernelspec": {
   "display_name": "Python 3 (ipykernel)",
   "language": "python",
   "name": "python3"
  },
  "language_info": {
   "codemirror_mode": {
    "name": "ipython",
    "version": 3
   },
   "file_extension": ".py",
   "mimetype": "text/x-python",
   "name": "python",
   "nbconvert_exporter": "python",
   "pygments_lexer": "ipython3",
   "version": "3.9.12"
  }
 },
 "nbformat": 4,
 "nbformat_minor": 5
}
