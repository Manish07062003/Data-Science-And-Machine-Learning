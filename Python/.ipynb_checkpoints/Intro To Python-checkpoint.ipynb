{
 "cells": [
  {
   "cell_type": "markdown",
   "id": "f1a7686e",
   "metadata": {},
   "source": [
    "# Shortcuts for jupyter notebook\n",
    "\n",
    "1)cmd + enter (to execute the cell)\n",
    "\n",
    "2)alt + enter (to execute the cell and create new cell below and goes to that cell)\n",
    "\n",
    "# Introduction to Python3\n",
    "\n",
    "## Print\n",
    "\n",
    "To print something we use print keyword and the content to print should be in double quotes or single quotes"
   ]
  },
  {
   "cell_type": "code",
   "execution_count": 6,
   "id": "e7439d27",
   "metadata": {},
   "outputs": [
    {
     "name": "stdout",
     "output_type": "stream",
     "text": [
      "Hello World\n"
     ]
    }
   ],
   "source": [
    "print(\"Hello World\")"
   ]
  },
  {
   "cell_type": "markdown",
   "id": "584f270d",
   "metadata": {},
   "source": [
    "## Variables\n",
    "\n",
    "Variables can start with an lower case or uppercase letter or underscore.\n",
    "And can have any letter or number after first character.\n"
   ]
  },
  {
   "cell_type": "code",
   "execution_count": 23,
   "id": "3da9d460",
   "metadata": {},
   "outputs": [
    {
     "name": "stdout",
     "output_type": "stream",
     "text": [
      "30\n"
     ]
    }
   ],
   "source": [
    "a=10\n",
    "b=20\n",
    "\n",
    "print(a+b)"
   ]
  },
  {
   "cell_type": "markdown",
   "id": "3a4e4049",
   "metadata": {},
   "source": [
    "If we dont use print keyword to print the output it will automatically prints the output of the last line of the cell"
   ]
  },
  {
   "cell_type": "code",
   "execution_count": 22,
   "id": "ae0cb970",
   "metadata": {},
   "outputs": [
    {
     "data": {
      "text/plain": [
       "375"
      ]
     },
     "execution_count": 22,
     "metadata": {},
     "output_type": "execute_result"
    }
   ],
   "source": [
    "a=30\n",
    "b=345\n",
    "\n",
    "a+b"
   ]
  },
  {
   "cell_type": "markdown",
   "id": "20548d25",
   "metadata": {},
   "source": [
    "# Data Types\n",
    "\n",
    "We does not specify any data type for a variable.\n",
    "\n",
    "We can store any type of data in a variable.\n",
    "\n",
    "we can know to type of data stored in a variable currently."
   ]
  },
  {
   "cell_type": "code",
   "execution_count": 20,
   "id": "8ae73a5d",
   "metadata": {},
   "outputs": [
    {
     "name": "stdout",
     "output_type": "stream",
     "text": [
      "<class 'int'>\n",
      "<class 'str'>\n"
     ]
    }
   ],
   "source": [
    "a=10\n",
    "print(type(a))\n",
    "\n",
    "a=\"Manish\"\n",
    "print(type(a))"
   ]
  },
  {
   "cell_type": "markdown",
   "id": "52f7ff99",
   "metadata": {},
   "source": [
    "## Numbers\n",
    "\n",
    "We can store any type of number including complex numbers"
   ]
  },
  {
   "cell_type": "code",
   "execution_count": 19,
   "id": "529e8c17",
   "metadata": {},
   "outputs": [
    {
     "name": "stdout",
     "output_type": "stream",
     "text": [
      "<class 'int'>\n",
      "<class 'float'>\n",
      "<class 'complex'>\n"
     ]
    }
   ],
   "source": [
    "a=10\n",
    "b=2.5\n",
    "c=10+5j\n",
    "\n",
    "print(type(a))\n",
    "print(type(b))\n",
    "print(type(c))"
   ]
  },
  {
   "cell_type": "markdown",
   "id": "6284f935",
   "metadata": {},
   "source": [
    "if we increment a variable value then a storage gets created with the incremented value and then this variable will point towards the newly created storage\n",
    "\n",
    "We can use id(variable) keyword to print the unique id of the storage"
   ]
  },
  {
   "cell_type": "code",
   "execution_count": 26,
   "id": "87a4b95d",
   "metadata": {},
   "outputs": [
    {
     "name": "stdout",
     "output_type": "stream",
     "text": [
      "4389306896\n",
      "4389306928\n"
     ]
    }
   ],
   "source": [
    "a=10\n",
    "print(id(a))\n",
    "\n",
    "# here the storage changes\n",
    "a=a+1\n",
    "print(id(a))"
   ]
  },
  {
   "cell_type": "markdown",
   "id": "6b5e72de",
   "metadata": {},
   "source": [
    "If two variables stores same number ranging from -5 to 256 both variables points towards same storage"
   ]
  },
  {
   "cell_type": "code",
   "execution_count": 29,
   "id": "d99f7bc6",
   "metadata": {},
   "outputs": [
    {
     "name": "stdout",
     "output_type": "stream",
     "text": [
      "4389306896\n",
      "4389306896\n"
     ]
    }
   ],
   "source": [
    "a=10\n",
    "b=10\n",
    "\n",
    "print(id(a))\n",
    "print(id(b))"
   ]
  },
  {
   "cell_type": "markdown",
   "id": "d866f52c",
   "metadata": {},
   "source": [
    "## Operator\n",
    "\n",
    "Basic operators are +,-,/,*,** (exponentiation),%\n",
    "\n",
    "There is another operator for only integer part i.e, //"
   ]
  },
  {
   "cell_type": "code",
   "execution_count": 41,
   "id": "dd41ecb6",
   "metadata": {},
   "outputs": [
    {
     "name": "stdout",
     "output_type": "stream",
     "text": [
      "14\n",
      "6\n",
      "40\n",
      "10000\n",
      "2\n",
      "2.5\n",
      "2\n"
     ]
    }
   ],
   "source": [
    "a=10\n",
    "b=4\n",
    "\n",
    "print(a+b)\n",
    "\n",
    "print(a-b)\n",
    "\n",
    "print(a*b)\n",
    "\n",
    "print(a**b)\n",
    "\n",
    "print(a%b)\n",
    "\n",
    "print(a/b)\n",
    "\n",
    "print(a//b)\n"
   ]
  },
  {
   "cell_type": "markdown",
   "id": "79f0da52",
   "metadata": {},
   "source": [
    "fsdfsdf"
   ]
  }
 ],
 "metadata": {
  "kernelspec": {
   "display_name": "Python 3 (ipykernel)",
   "language": "python",
   "name": "python3"
  },
  "language_info": {
   "codemirror_mode": {
    "name": "ipython",
    "version": 3
   },
   "file_extension": ".py",
   "mimetype": "text/x-python",
   "name": "python",
   "nbconvert_exporter": "python",
   "pygments_lexer": "ipython3",
   "version": "3.10.7"
  }
 },
 "nbformat": 4,
 "nbformat_minor": 5
}
