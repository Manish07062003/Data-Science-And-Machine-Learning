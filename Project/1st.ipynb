{
 "cells": [
  {
   "cell_type": "code",
   "execution_count": 1,
   "id": "65d3ea82",
   "metadata": {},
   "outputs": [],
   "source": [
    "import pandas as pd\n",
    "import matplotlib.pyplot as plt"
   ]
  },
  {
   "cell_type": "code",
   "execution_count": 36,
   "id": "7347a117",
   "metadata": {},
   "outputs": [
    {
     "name": "stdout",
     "output_type": "stream",
     "text": [
      "       SNo        Date      StartupName            IndustryVertical  \\\n",
      "0        0  01/08/2017         TouchKin                  Technology   \n",
      "1        1  02/08/2017          Ethinos                  Technology   \n",
      "2        2  02/08/2017     Leverage Edu           Consumer Internet   \n",
      "3        3  02/08/2017             Zepo           Consumer Internet   \n",
      "4        4  02/08/2017     Click2Clinic           Consumer Internet   \n",
      "...    ...         ...              ...                         ...   \n",
      "2196  2196  29/04/2015           Tracxn  Startup Analytics platform   \n",
      "2197  2197  29/04/2015             Dazo    Mobile Food Ordering app   \n",
      "2198  2198  29/04/2015         Tradelab  Financial Markets Software   \n",
      "2199  2199  29/04/2015           PiQube   Hiring Analytics platform   \n",
      "2200  2200  29/04/2015  Travel Triangle   Online Travel Marketplace   \n",
      "\n",
      "                                        SubVertical CityLocation  \\\n",
      "0                          Predictive Care Platform    Bangalore   \n",
      "1                          Digital Marketing Agency       Mumbai   \n",
      "2     Online platform for Higher Education Services    New Delhi   \n",
      "3                            DIY Ecommerce platform       Mumbai   \n",
      "4                     healthcare service aggregator    Hyderabad   \n",
      "...                                             ...          ...   \n",
      "2196                                            NaN    Bangalore   \n",
      "2197                                            NaN    Bangalore   \n",
      "2198                                            NaN    Bangalore   \n",
      "2199                                            NaN      Chennai   \n",
      "2200                                            NaN        Noida   \n",
      "\n",
      "                                          InvestorsName  InvestmentType  \\\n",
      "0                                           Kae Capital  Private Equity   \n",
      "1                            Triton Investment Advisors  Private Equity   \n",
      "2     Kashyap Deorah, Anand Sankeshwar, Deepak Jain,...    Seed Funding   \n",
      "3     Kunal Shah, LetsVenture, Anupam Mittal, Hetal ...    Seed Funding   \n",
      "4                        Narottam Thudi, Shireesh Palle    Seed Funding   \n",
      "...                                                 ...             ...   \n",
      "2196                                      SAIF Partners  Private Equity   \n",
      "2197  Sumit Jain, Aprameya Radhakrishna, Alok Goel, ...    Seed Funding   \n",
      "2198                                         Rainmatter    Seed Funding   \n",
      "2199                                        The HR Fund    Seed Funding   \n",
      "2200           Bessemer Venture Partners, SAIF Partners  Private Equity   \n",
      "\n",
      "     AmountInUSD   Remarks  \n",
      "0      1,300,000       NaN  \n",
      "1            NaN       NaN  \n",
      "2            NaN       NaN  \n",
      "3        500,000       NaN  \n",
      "4        850,000       NaN  \n",
      "...          ...       ...  \n",
      "2196   3,500,000  Series A  \n",
      "2197         NaN       NaN  \n",
      "2198     400,000       NaN  \n",
      "2199     500,000       NaN  \n",
      "2200   8,000,000  Series B  \n",
      "\n",
      "[2193 rows x 10 columns]\n"
     ]
    }
   ],
   "source": [
    "dataset=pd.read_csv(\"../Datasets/startup_funding.csv\")\n",
    "df=dataset.copy()\n",
    "df.dropna(subset=\"CityLocation\",inplace=True)\n",
    "print(df)"
   ]
  },
  {
   "cell_type": "code",
   "execution_count": 27,
   "id": "666cc669",
   "metadata": {},
   "outputs": [
    {
     "name": "stdout",
     "output_type": "stream",
     "text": [
      "2141          New Delhi\n",
      "2142          Hyderabad\n",
      "2143             Mumbai\n",
      "2144          New Delhi\n",
      "2145             Mumbai\n",
      "2146               Pune\n",
      "2147            Gurgaon\n",
      "2148          Bangalore\n",
      "2149          New Delhi\n",
      "2150          New Delhi\n",
      "2151            Kolkata\n",
      "2152          Bangalore\n",
      "2153             Mumbai\n",
      "2154          Bangalore\n",
      "2155            Chennai\n",
      "2156            Gurgaon\n",
      "2157          Bangalore\n",
      "2158          New Delhi\n",
      "2159             Mumbai\n",
      "2160              Noida\n",
      "2161          Bangalore\n",
      "2162             Mumbai\n",
      "2163            Gurgaon\n",
      "2164            Gurgaon\n",
      "2165            Gurgaon\n",
      "2166          New Delhi\n",
      "2167             Mumbai\n",
      "2168              Udupi\n",
      "2169             Mumbai\n",
      "2170            Gurgaon\n",
      "2171           Vadodara\n",
      "2172            Gurgaon\n",
      "2173            Chennai\n",
      "2174            Chennai\n",
      "2175          New Delhi\n",
      "2176          Bangalore\n",
      "2177          New Delhi\n",
      "2178          Bangalore\n",
      "2179             Mumbai\n",
      "2180    Bangalore / SFO\n",
      "2181          Bangalore\n",
      "2182         Chandigarh\n",
      "2183          New Delhi\n",
      "2184          New Delhi\n",
      "2185             Mumbai\n",
      "2186               Pune\n",
      "2187             Mumbai\n",
      "2188             Jaipur\n",
      "2189          New Delhi\n",
      "2190          Bangalore\n",
      "2191          Bangalore\n",
      "2192          Hyderabad\n",
      "2193             Mumbai\n",
      "2194            Gurgaon\n",
      "2195          Pune / US\n",
      "2196          Bangalore\n",
      "2197          Bangalore\n",
      "2198          Bangalore\n",
      "2199            Chennai\n",
      "2200              Noida\n",
      "Name: CityLocation, dtype: object\n"
     ]
    }
   ],
   "source": [
    "print(df[\"CityLocation\"].tail(60))"
   ]
  },
  {
   "cell_type": "code",
   "execution_count": 28,
   "id": "f8794d7b",
   "metadata": {},
   "outputs": [
    {
     "name": "stdout",
     "output_type": "stream",
     "text": [
      "0     Bangalore\n",
      "1        Mumbai\n",
      "2     New Delhi\n",
      "3        Mumbai\n",
      "4     Hyderabad\n",
      "5     Bangalore\n",
      "6     Ahmedabad\n",
      "7       Gurgaon\n",
      "8     Bangalore\n",
      "9         Noida\n",
      "10       Mumbai\n",
      "11    Bangalore\n",
      "12      Gurgaon\n",
      "13    Bangalore\n",
      "14    Bangalore\n",
      "15    Hyderabad\n",
      "16         Pune\n",
      "17       Mumbai\n",
      "18    Bangalore\n",
      "19    Bangalore\n",
      "20    Hyderabad\n",
      "21    Bangalore\n",
      "22         Pune\n",
      "23    Bangalore\n",
      "24    Bangalore\n",
      "25    Bangalore\n",
      "26         Pune\n",
      "27        Noida\n",
      "28    Hyderabad\n",
      "29      Kolkata\n",
      "30    Bangalore\n",
      "31    Bangalore\n",
      "32    Bangalore\n",
      "33    Bangalore\n",
      "34      Gurgaon\n",
      "35      Gurgaon\n",
      "36    New Delhi\n",
      "37    New Delhi\n",
      "38    Bangalore\n",
      "39    Bangalore\n",
      "40    Bangalore\n",
      "41    New Delhi\n",
      "42    New Delhi\n",
      "43    Bangalore\n",
      "44      Gurgaon\n",
      "45       Mumbai\n",
      "46       Mumbai\n",
      "47    bangalore\n",
      "48    Bangalore\n",
      "49    Bangalore\n",
      "50       Mumbai\n",
      "51       Mumbai\n",
      "52      Gurgaon\n",
      "53      Kolkata\n",
      "54       Mumbai\n",
      "55    Bangalore\n",
      "56    New Delhi\n",
      "57    New Delhi\n",
      "58      Gurgaon\n",
      "59    New Delhi\n",
      "Name: CityLocation, dtype: object\n"
     ]
    }
   ],
   "source": [
    "def seperate_city(city):\n",
    "    return city.split('/')[0].strip()\n",
    "\n",
    "df[\"CityLocation\"]=df[\"CityLocation\"].apply(seperate_city)\n",
    "print(df[\"CityLocation\"].head(60))"
   ]
  },
  {
   "cell_type": "code",
   "execution_count": 29,
   "id": "8e23cfbc",
   "metadata": {},
   "outputs": [
    {
     "name": "stdout",
     "output_type": "stream",
     "text": [
      "0     Bangalore\n",
      "1        Mumbai\n",
      "2     New Delhi\n",
      "3        Mumbai\n",
      "4     Hyderabad\n",
      "5     Bangalore\n",
      "6     Ahmedabad\n",
      "7       Gurgaon\n",
      "8     Bangalore\n",
      "9         Noida\n",
      "10       Mumbai\n",
      "11    Bangalore\n",
      "12      Gurgaon\n",
      "13    Bangalore\n",
      "14    Bangalore\n",
      "15    Hyderabad\n",
      "16         Pune\n",
      "17       Mumbai\n",
      "18    Bangalore\n",
      "19    Bangalore\n",
      "20    Hyderabad\n",
      "21    Bangalore\n",
      "22         Pune\n",
      "23    Bangalore\n",
      "24    Bangalore\n",
      "25    Bangalore\n",
      "26         Pune\n",
      "27        Noida\n",
      "28    Hyderabad\n",
      "29      Kolkata\n",
      "30    Bangalore\n",
      "31    Bangalore\n",
      "32    Bangalore\n",
      "33    Bangalore\n",
      "34      Gurgaon\n",
      "35      Gurgaon\n",
      "36    New Delhi\n",
      "37    New Delhi\n",
      "38    Bangalore\n",
      "39    Bangalore\n",
      "40    Bangalore\n",
      "41    New Delhi\n",
      "42    New Delhi\n",
      "43    Bangalore\n",
      "44      Gurgaon\n",
      "45       Mumbai\n",
      "46       Mumbai\n",
      "47    Bangalore\n",
      "48    Bangalore\n",
      "49    Bangalore\n",
      "50       Mumbai\n",
      "51       Mumbai\n",
      "52      Gurgaon\n",
      "53      Kolkata\n",
      "54       Mumbai\n",
      "55    Bangalore\n",
      "56    New Delhi\n",
      "57    New Delhi\n",
      "58      Gurgaon\n",
      "59    New Delhi\n",
      "Name: CityLocation, dtype: object\n"
     ]
    }
   ],
   "source": [
    "df[\"CityLocation\"].replace(\"bangalore\",\"Bangalore\",inplace=True)\n",
    "df[\"CityLocation\"].replace(\"Delhi\",\"New Delhi\",inplace=True)\n",
    "\n",
    "print(df[\"CityLocation\"].head(60))\n"
   ]
  },
  {
   "cell_type": "code",
   "execution_count": 30,
   "id": "85133867",
   "metadata": {},
   "outputs": [
    {
     "name": "stdout",
     "output_type": "stream",
     "text": [
      "Bangalore    635\n",
      "Mumbai       449\n",
      "New Delhi    389\n",
      "Gurgaon      241\n",
      "Noida         79\n",
      "Name: CityLocation, dtype: int64\n"
     ]
    }
   ],
   "source": [
    "df=df[(df[\"CityLocation\"]==\"Bangalore\") | (df[\"CityLocation\"]==\"New Delhi\") | (df[\"CityLocation\"]==\"Mumbai\") | (df[\"CityLocation\"]==\"Gurgaon\") | (df[\"CityLocation\"]==\"Noida\")]\n",
    "\n",
    "city_fundings=df[\"CityLocation\"].value_counts()\n",
    "print(city_fundings)"
   ]
  },
  {
   "cell_type": "code",
   "execution_count": 35,
   "id": "3fca9c6e",
   "metadata": {},
   "outputs": [
    {
     "data": {
      "image/png": "[encoded data removed]",
      "text/plain": [
       "<Figure size 640x480 with 1 Axes>"
      ]
     },
     "metadata": {},
     "output_type": "display_data"
    }
   ],
   "source": [
    "plt.bar(city_fundings.index,city_fundings,color=\"red\")\n",
    "plt.show()\n"
   ]
  }
 ],
 "metadata": {
  "kernelspec": {
   "display_name": "Python 3 (ipykernel)",
   "language": "python",
   "name": "python3"
  },
  "language_info": {
   "codemirror_mode": {
    "name": "ipython",
    "version": 3
   },
   "file_extension": ".py",
   "mimetype": "text/x-python",
   "name": "python",
   "nbconvert_exporter": "python",
   "pygments_lexer": "ipython3",
   "version": "3.9.12"
  }
 },
 "nbformat": 4,
 "nbformat_minor": 5
}
