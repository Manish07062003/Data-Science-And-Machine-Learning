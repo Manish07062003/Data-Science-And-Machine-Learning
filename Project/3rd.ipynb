{
 "cells": [
  {
   "cell_type": "code",
   "execution_count": 2,
   "id": "335bc29e",
   "metadata": {},
   "outputs": [],
   "source": [
    "import pandas as pd\n",
    "import matplotlib.pyplot as plt"
   ]
  },
  {
   "cell_type": "code",
   "execution_count": 28,
   "id": "263c09db",
   "metadata": {},
   "outputs": [
    {
     "name": "stdout",
     "output_type": "stream",
     "text": [
      "       SNo        Date       StartupName   IndustryVertical  \\\n",
      "0        0  01/08/2017          TouchKin         Technology   \n",
      "1        1  02/08/2017           Ethinos         Technology   \n",
      "2        2  02/08/2017      Leverage Edu  Consumer Internet   \n",
      "3        3  02/08/2017              Zepo  Consumer Internet   \n",
      "4        4  02/08/2017      Click2Clinic  Consumer Internet   \n",
      "...    ...         ...               ...                ...   \n",
      "2367  2367  29/01/2015        Printvenue                NaN   \n",
      "2368  2368  29/01/2015          Graphene                NaN   \n",
      "2369  2369  30/01/2015    Mad Street Den                NaN   \n",
      "2370  2370  30/01/2015         Simplotel                NaN   \n",
      "2371  2371  31/01/2015  couponmachine.in                NaN   \n",
      "\n",
      "                                        SubVertical CityLocation  \\\n",
      "0                          Predictive Care Platform    Bangalore   \n",
      "1                          Digital Marketing Agency       Mumbai   \n",
      "2     Online platform for Higher Education Services    New Delhi   \n",
      "3                            DIY Ecommerce platform       Mumbai   \n",
      "4                     healthcare service aggregator    Hyderabad   \n",
      "...                                             ...          ...   \n",
      "2367                                            NaN          NaN   \n",
      "2368                                            NaN          NaN   \n",
      "2369                                            NaN          NaN   \n",
      "2370                                            NaN          NaN   \n",
      "2371                                            NaN          NaN   \n",
      "\n",
      "                                          InvestorsName  InvestmentType  \\\n",
      "0                                           Kae Capital  Private Equity   \n",
      "1                            Triton Investment Advisors  Private Equity   \n",
      "2     Kashyap Deorah, Anand Sankeshwar, Deepak Jain,...    Seed Funding   \n",
      "3     Kunal Shah, LetsVenture, Anupam Mittal, Hetal ...    Seed Funding   \n",
      "4                        Narottam Thudi, Shireesh Palle    Seed Funding   \n",
      "...                                                 ...             ...   \n",
      "2367                        Asia Pacific Internet Group  Private Equity   \n",
      "2368                                     KARSEMVEN Fund  Private Equity   \n",
      "2369                     Exfinity Fund, GrowX Ventures.  Private Equity   \n",
      "2370                                         MakeMyTrip  Private Equity   \n",
      "2371                  UK based Group of Angel Investors    Seed Funding   \n",
      "\n",
      "     AmountInUSD                            Remarks  \n",
      "0      1,300,000                                NaN  \n",
      "1            NaN                                NaN  \n",
      "2            NaN                                NaN  \n",
      "3        500,000                                NaN  \n",
      "4        850,000                                NaN  \n",
      "...          ...                                ...  \n",
      "2367   4,500,000                                NaN  \n",
      "2368     825,000                Govt backed VC Fund  \n",
      "2369   1,500,000                                NaN  \n",
      "2370         NaN  Strategic Funding, Minority stake  \n",
      "2371     140,000                                NaN  \n",
      "\n",
      "[2372 rows x 10 columns]\n"
     ]
    }
   ],
   "source": [
    "dataset=pd.read_csv(\"../Datasets/startup_funding.csv\")\n",
    "df=dataset.copy()\n",
    "print(df)"
   ]
  },
  {
   "cell_type": "code",
   "execution_count": 23,
   "id": "7e0074bf",
   "metadata": {},
   "outputs": [
    {
     "name": "stdout",
     "output_type": "stream",
     "text": [
      "       SNo        Date       StartupName   IndustryVertical  \\\n",
      "0        0  01/08/2017          TouchKin         Technology   \n",
      "1        1  02/08/2017           Ethinos         Technology   \n",
      "2        2  02/08/2017      Leverage Edu  Consumer Internet   \n",
      "3        3  02/08/2017              Zepo  Consumer Internet   \n",
      "4        4  02/08/2017      Click2Clinic  Consumer Internet   \n",
      "...    ...         ...               ...                ...   \n",
      "2359  2367  29/01/2015        Printvenue                NaN   \n",
      "2360  2368  29/01/2015          Graphene                NaN   \n",
      "2361  2369  30/01/2015    Mad Street Den                NaN   \n",
      "2362  2370  30/01/2015         Simplotel                NaN   \n",
      "2363  2371  31/01/2015  couponmachine.in                NaN   \n",
      "\n",
      "                                        SubVertical CityLocation  \\\n",
      "0                          Predictive Care Platform    Bangalore   \n",
      "1                          Digital Marketing Agency       Mumbai   \n",
      "2     Online platform for Higher Education Services    New Delhi   \n",
      "3                            DIY Ecommerce platform       Mumbai   \n",
      "4                     healthcare service aggregator    Hyderabad   \n",
      "...                                             ...          ...   \n",
      "2359                                            NaN          NaN   \n",
      "2360                                            NaN          NaN   \n",
      "2361                                            NaN          NaN   \n",
      "2362                                            NaN          NaN   \n",
      "2363                                            NaN          NaN   \n",
      "\n",
      "                                          InvestorsName  InvestmentType  \\\n",
      "0                                           Kae Capital  Private Equity   \n",
      "1                            Triton Investment Advisors  Private Equity   \n",
      "2     Kashyap Deorah, Anand Sankeshwar, Deepak Jain,...    Seed Funding   \n",
      "3     Kunal Shah, LetsVenture, Anupam Mittal, Hetal ...    Seed Funding   \n",
      "4                        Narottam Thudi, Shireesh Palle    Seed Funding   \n",
      "...                                                 ...             ...   \n",
      "2359                        Asia Pacific Internet Group  Private Equity   \n",
      "2360                                     KARSEMVEN Fund  Private Equity   \n",
      "2361                     Exfinity Fund, GrowX Ventures.  Private Equity   \n",
      "2362                                         MakeMyTrip  Private Equity   \n",
      "2363                  UK based Group of Angel Investors    Seed Funding   \n",
      "\n",
      "     AmountInUSD                            Remarks  \n",
      "0      1,300,000                                NaN  \n",
      "1            NaN                                NaN  \n",
      "2            NaN                                NaN  \n",
      "3        500,000                                NaN  \n",
      "4        850,000                                NaN  \n",
      "...          ...                                ...  \n",
      "2359   4,500,000                                NaN  \n",
      "2360     825,000                Govt backed VC Fund  \n",
      "2361   1,500,000                                NaN  \n",
      "2362         NaN  Strategic Funding, Minority stake  \n",
      "2363     140,000                                NaN  \n",
      "\n",
      "[2364 rows x 10 columns]\n"
     ]
    }
   ],
   "source": [
    "df.dropna(subset=[\"InvestorsName\",\"StartupName\"],inplace=True)\n",
    "df.reset_index(drop = True, inplace = True)\n",
    "print(df)"
   ]
  },
  {
   "cell_type": "code",
   "execution_count": 29,
   "id": "9867f344",
   "metadata": {},
   "outputs": [
    {
     "name": "stdout",
     "output_type": "stream",
     "text": [
      "   SNo        Date   StartupName   IndustryVertical  \\\n",
      "0    0  01/08/2017      TouchKin         Technology   \n",
      "1    1  02/08/2017       Ethinos         Technology   \n",
      "2    2  02/08/2017  Leverage Edu  Consumer Internet   \n",
      "3    3  02/08/2017          Zepo  Consumer Internet   \n",
      "4    4  02/08/2017  Click2Clinic  Consumer Internet   \n",
      "\n",
      "                                     SubVertical CityLocation  \\\n",
      "0                       Predictive Care Platform    Bangalore   \n",
      "1                       Digital Marketing Agency       Mumbai   \n",
      "2  Online platform for Higher Education Services    New Delhi   \n",
      "3                         DIY Ecommerce platform       Mumbai   \n",
      "4                  healthcare service aggregator    Hyderabad   \n",
      "\n",
      "                                       InvestorsName  InvestmentType  \\\n",
      "0                                        Kae Capital  Private Equity   \n",
      "1                         Triton Investment Advisors  Private Equity   \n",
      "2  Kashyap Deorah, Anand Sankeshwar, Deepak Jain,...    Seed Funding   \n",
      "3  Kunal Shah, LetsVenture, Anupam Mittal, Hetal ...    Seed Funding   \n",
      "4                     Narottam Thudi, Shireesh Palle    Seed Funding   \n",
      "\n",
      "  AmountInUSD Remarks  \n",
      "0   1,300,000     NaN  \n",
      "1         NaN     NaN  \n",
      "2         NaN     NaN  \n",
      "3     500,000     NaN  \n",
      "4     850,000     NaN  \n"
     ]
    }
   ],
   "source": [
    "df[\"StartupName\"].replace(\"Flipkart.com\",\"Flipkart\",inplace=True)\n",
    "df[\"StartupName\"].replace(\"Ola Cabs\",\"Ola\",inplace=True)\n",
    "df[\"StartupName\"].replace(\"Olacabs\",\"Ola\",inplace=True)\n",
    "df[\"StartupName\"].replace(\"OlaCabs\",\"Ola\",inplace=True)\n",
    "df[\"StartupName\"].replace(\"Oyo Rooms\",\"Oyo\",inplace=True)\n",
    "df[\"StartupName\"].replace(\"OyoRooms\",\"Oyo\",inplace=True)\n",
    "df[\"StartupName\"].replace(\"Oyorooms\",\"Oyo\",inplace=True)\n",
    "df[\"StartupName\"].replace(\"OYO Rooms\",\"Oyo\",inplace=True)\n",
    "df[\"StartupName\"].replace(\"Paytm Marketplace\",\"Paytm\",inplace=True)\n",
    "df = df[df.InvestorsName != 'Undisclosed Investors']\n",
    "df = df[df.InvestorsName != 'Undisclosed investors']\n",
    "df = df[df.InvestorsName != 'undisclosed investors']\n",
    "df = df[df.InvestorsName != 'undisclosed investor']\n",
    "print(df.head())"
   ]
  },
  {
   "cell_type": "code",
   "execution_count": 64,
   "id": "46fa19db",
   "metadata": {},
   "outputs": [
    {
     "name": "stdout",
     "output_type": "stream",
     "text": [
      "InvestorsName\n",
      "Sequoia Capital         34\n",
      "Accel Partners          33\n",
      "Indian Angel Network    33\n",
      "Kalaari Capital         30\n",
      "Ratan Tata              28\n",
      "Name: StartupName, dtype: int64\n"
     ]
    }
   ],
   "source": [
    "investor_name=[]\n",
    "startup_name=[]\n",
    "\n",
    "for index,row in df.iterrows():\n",
    "    i=row[\"InvestorsName\"]\n",
    "    s=row[\"StartupName\"]\n",
    "    \n",
    "    i=str(i)\n",
    "    temp=i.split(',')\n",
    "    for j in temp:\n",
    "        if(j!=''):\n",
    "            investor_name.append(j)\n",
    "            startup_name.append(s)\n",
    "    \n",
    "newDf=pd.DataFrame({\"InvestorsName\":investor_name,\"StartupName\":startup_name})\n",
    "newDf=newDf.groupby('InvestorsName')['StartupName'].nunique()\n",
    "newDf=newDf.sort_values(ascending=False).head(5)\n",
    "print(newDf)\n"
   ]
  },
  {
   "cell_type": "code",
   "execution_count": 65,
   "id": "01a464fe",
   "metadata": {},
   "outputs": [
    {
     "data": {
      "image/png": "[encoded data removed]",
      "text/plain": [
       "<Figure size 640x480 with 1 Axes>"
      ]
     },
     "metadata": {},
     "output_type": "display_data"
    }
   ],
   "source": [
    "plt.pie(newDf.values,labels=newDf.index,autopct=\"%.2f%%\")\n",
    "plt.axis(\"equal\")\n",
    "plt.show()"
   ]
  }
 ],
 "metadata": {
  "kernelspec": {
   "display_name": "Python 3 (ipykernel)",
   "language": "python",
   "name": "python3"
  },
  "language_info": {
   "codemirror_mode": {
    "name": "ipython",
    "version": 3
   },
   "file_extension": ".py",
   "mimetype": "text/x-python",
   "name": "python",
   "nbconvert_exporter": "python",
   "pygments_lexer": "ipython3",
   "version": "3.9.12"
  }
 },
 "nbformat": 4,
 "nbformat_minor": 5
}
